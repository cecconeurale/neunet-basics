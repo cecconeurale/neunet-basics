{
 "cells": [
  {
   "cell_type": "markdown",
   "metadata": {
    "code_folding": [
     0
    ]
   },
   "source": [
     "# The MNIST dataset"
   ]
  },
  {
   "cell_type": "markdown",
   "metadata": {},
   "source": [
    "The MNIST database of handwritten digits, available at [Yann Lecun web site](http://yann.lecun.com/exdb/mnist), has a training set of 60,000 examples, and a test set of 10,000 examples. It is a subset of a larger set available from NIST.\n",
    "\n",
    "The digits have been size-normalized and centered in a fixed-size image.\n",
    "It is a good database for people who want to try learningù techniques and pattern recognition methods on real-world data while spending minimal efforts on preprocessing and formatting.\n",
    "\n",
    "To obtain and use it in python just install [python-mnist](https://github.com/sorki/python-mnist):\n",
    "\n",
    "```\n",
    "sudo pip install python_mnist\n",
    "```\n",
    "\n",
    "Then donload the files of the dataset in a folder called data by running these few lines:"
   ]
  },
  {
   "cell_type": "code",
   "execution_count": 1,
   "metadata": {
    "collapsed": false
   },
   "outputs": [],
   "source": [
    "# download bash script \n",
    "! wget https://raw.githubusercontent.com/sorki/python-mnist/master/get_data.sh > /dev/null 2>&1\n",
    "    \n",
    "# run it to create the folder and fill it with the dataset files\n",
    "! bash get_data.sh >/dev/null 2>&1\n",
    "\n",
    "# remove the script file\n",
    "! rm get_data.sh* > /dev/null 2>&1"
   ]
  },
  {
   "cell_type": "markdown",
   "metadata": {},
   "source": [
    "Now we call the mnist.load method to get the data in a readable way:"
   ]
  },
  {
   "cell_type": "code",
   "execution_count": 2,
   "metadata": {
    "collapsed": false,
    "run_control": {
     "marked": false
    }
   },
   "outputs": [],
   "source": [
    "from mnist import MNIST\n",
    "mndata = MNIST('./data')\n",
    "\n",
    "# this object contains training data\n",
    "mnist_train = mndata.load_training()\n",
    "\n",
    "# this object contains testing data\n",
    "mnist_test = mndata.load_testing()\n",
    "\n",
    "# the number of pixels per side of all images\n",
    "mnist_side_pixel = 28"
   ]
  },
  {
   "cell_type": "markdown",
   "metadata": {},
   "source": [
    "Below, as an example, we take the first ten samples from the training set and plot them:"
   ]
  },
  {
   "cell_type": "code",
   "execution_count": 3,
   "metadata": {
    "collapsed": false
   },
   "outputs": [
    {
     "data": {
      "image/png": "[encoded data removed]",
      "text/plain": [
       "<matplotlib.figure.Figure at 0x7f38b3c9f0d0>"
      ]
     },
     "metadata": {},
     "output_type": "display_data"
    }
   ],
   "source": [
    "%matplotlib inline\n",
    "from pylab import *\n",
    "\n",
    "# define the number of samples to take\n",
    "num_samples = 10\n",
    "\n",
    "# create a figure where we will store all samples \n",
    "figure(figsize=(16,2))\n",
    "\n",
    "# iterate over samples'indices\n",
    "for sample in xrange(num_samples) :\n",
    "    \n",
    "    # the image corresponding to the 'sample' index\n",
    "    img = mndata.train_images[sample]\n",
    "    # the label of the image\n",
    "    label = mndata.train_labels[sample]\n",
    "    # the image is stored as a rolled vector,\n",
    "    # we have to roll it back in a matrix\n",
    "    aimg = array(img).reshape(mnist_side_pixel, mnist_side_pixel)\n",
    "    # open a subplot for each sample\n",
    "    subplot(1, num_samples, sample+1)\n",
    "    # the corresponding digit is the title of the plot\n",
    "    title(label)\n",
    "    # we use imshow to plot the matrix of pixels\n",
    "    imshow(aimg, interpolation = 'none', aspect = 'auto', cmap = cm.gist_gray)\n",
    "    axis(\"off\")\n",
    "\n",
    "show()"
   ]
  }
 ],
 "metadata": {
  "css": [
   ""
  ],
  "kernelspec": {
   "display_name": "Python 2",
   "language": "python",
   "name": "python2"
  },
  "language_info": {
   "codemirror_mode": {
    "name": "ipython",
    "version": 2
   },
   "file_extension": ".py",
   "mimetype": "text/x-python",
   "name": "python",
   "nbconvert_exporter": "python",
   "pygments_lexer": "ipython2",
   "version": "2.7.6"
  },
  "latex_envs": {
   "bibliofile": "",
   "cite_by": "apalike",
   "current_citInitial": 1,
   "eqLabelWithNumbers": true,
   "eqNumInitial": 0
  }
 },
 "nbformat": 4,
 "nbformat_minor": 0
}
