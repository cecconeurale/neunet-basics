{
 "cells": [
  {
   "cell_type": "markdown",
   "metadata": {
    "code_folding": [
     0
    ]
   },
   "source": [
    "# The MNIST dataset"
   ]
  },
  {
   "cell_type": "markdown",
   "metadata": {
    "run_control": {
     "marked": true
    }
   },
   "source": [
    "The MNIST database of handwritten digits, available at [Yann Lecun web site](http://yann.lecun.com/exdb/mnist), has a training set of 60,000 examples, and a test set of 10,000 examples. It is a subset of a larger set available from NIST.\n",
    "\n",
    "The digits have been size-normalized and centered in a fixed-size image.\n",
    "It is a good database for people who want to try learning techniques and pattern recognition methods on real-world data while spending minimal efforts on preprocessing and formatting.\n",
    "\n",
    "<br>\n",
    "<div>Table of contents</div>\n",
    "<div id=\"toc\"></div>\n",
    "<br>\n",
    "\n",
    "### MNIST numbers\n",
    "|                     |     |\n",
    "|---------------------|-----|\n",
    "|**training images:** |60000|\n",
    "|**test images:** |10000|\n",
    "|**image pixels:** |28x28| \n",
    "|**image format:** |raw vector of 784 elements |\n",
    "|        |encoding 0-255|\n",
    "\n",
    "\n",
    "### MNIST with python\n",
    "\n",
    "###### Get the dataset and the python functionalities \n",
    "\n",
    "To can obtain and use it in python in two steps:\n",
    "* Install [python-mnist](https://github.com/sorki/python-mnist):\n",
    "\n",
    "```\n",
    "sudo pip install python_mnist\n",
    "```\n",
    "\n",
    "* Download the files of the dataset in a folder called data. You can find them [here](mnist-data.zip). Just unzip them in the same directory of your python scripts."
   ]
  },
  {
   "cell_type": "markdown",
   "metadata": {},
   "source": [
    "###### Using the dataset in python\n",
    "Now we can use the dataset in a readable way by using the load_training and load_testing methods of the MNIST object:"
   ]
  },
  {
   "cell_type": "code",
   "execution_count": 1,
   "metadata": {
    "ExecuteTime": {
     "end_time": "2017-05-15T10:44:09.092892",
     "start_time": "2017-05-15T10:44:09.051999"
    },
    "collapsed": false,
    "run_control": {
     "marked": false
    },
    "scrolled": true
   },
   "outputs": [
    {
     "ename": "ImportError",
     "evalue": "No module named mnist",
     "output_type": "error",
     "traceback": [
      "\u001b[1;31m---------------------------------------------------------------------------\u001b[0m",
      "\u001b[1;31mImportError\u001b[0m                               Traceback (most recent call last)",
      "\u001b[1;32m<ipython-input-1-0ffbc8ba92a7>\u001b[0m in \u001b[0;36m<module>\u001b[1;34m()\u001b[0m\n\u001b[0;32m      1\u001b[0m \u001b[1;31m# import the mnist class\u001b[0m\u001b[1;33m\u001b[0m\u001b[1;33m\u001b[0m\u001b[0m\n\u001b[1;32m----> 2\u001b[1;33m \u001b[1;32mfrom\u001b[0m \u001b[0mmnist\u001b[0m \u001b[1;32mimport\u001b[0m \u001b[0mMNIST\u001b[0m\u001b[1;33m\u001b[0m\u001b[0m\n\u001b[0m\u001b[0;32m      3\u001b[0m \u001b[1;33m\u001b[0m\u001b[0m\n\u001b[0;32m      4\u001b[0m \u001b[1;31m# init with the 'data' dir\u001b[0m\u001b[1;33m\u001b[0m\u001b[1;33m\u001b[0m\u001b[0m\n\u001b[0;32m      5\u001b[0m \u001b[0mmndata\u001b[0m \u001b[1;33m=\u001b[0m \u001b[0mMNIST\u001b[0m\u001b[1;33m(\u001b[0m\u001b[1;34m'./data'\u001b[0m\u001b[1;33m)\u001b[0m\u001b[1;33m\u001b[0m\u001b[0m\n",
      "\u001b[1;31mImportError\u001b[0m: No module named mnist"
     ]
    }
   ],
   "source": [
    "# import the mnist class\n",
    "from mnist import MNIST \n",
    "\n",
    "# init with the 'data' dir\n",
    "mndata = MNIST('./data')    \n",
    "\n",
    "# Load data\n",
    "mndata.load_training() \n",
    "mndata.load_testing()\n",
    "\n",
    "# The number of pixels per side of all images\n",
    "img_side = 28\n",
    "\n",
    "# Each input is a raw vector.\n",
    "# The number of units of the network \n",
    "# corresponds to the number of input elements\n",
    "n_mnist_pixels = img_side*img_side "
   ]
  },
  {
   "cell_type": "markdown",
   "metadata": {},
   "source": [
    "Below, as an example, we take the first ten samples from the training set and plot them:"
   ]
  },
  {
   "cell_type": "code",
   "execution_count": null,
   "metadata": {
    "ExecuteTime": {
     "end_time": "2017-05-15T10:44:09.093407",
     "start_time": "2017-05-15T08:44:09.058Z"
    },
    "collapsed": false
   },
   "outputs": [],
   "source": [
    "%matplotlib inline\n",
    "from pylab import *\n",
    "\n",
    "# Define the number of samples to take\n",
    "num_samples = 10\n",
    "\n",
    "# create a figure where we will store all samples \n",
    "figure(figsize=(10,1))\n",
    "\n",
    "# Iterate over samples indices\n",
    "for sample in xrange(num_samples) :\n",
    "    \n",
    "    # The image corresponding to the 'sample' index\n",
    "    img = mndata.train_images[sample]\n",
    "    \n",
    "    # The label of the image\n",
    "    label = mndata.train_labels[sample]\n",
    "    \n",
    "    # The image is stored as a rolled vector,\n",
    "    # we have to roll it back in a matrix\n",
    "    aimg = array(img).reshape(img_side, img_side)\n",
    "    \n",
    "    # Open a subplot for each sample\n",
    "    subplot(1, num_samples, sample+1)\n",
    "    \n",
    "    # The corresponding digit is the title of the plot\n",
    "    title(label)\n",
    "    \n",
    "    # We use imshow to plot the matrix of pixels\n",
    "    imshow(aimg, interpolation = 'none', \n",
    "        aspect = 'auto', cmap = cm.binary)\n",
    "    axis(\"off\")\n",
    "\n",
    "show()"
   ]
  }
 ],
 "metadata": {
  "css": [
   ""
  ],
  "kernelspec": {
   "display_name": "Python 2",
   "language": "python",
   "name": "python2"
  },
  "language_info": {
   "codemirror_mode": {
    "name": "ipython",
    "version": 2
   },
   "file_extension": ".py",
   "mimetype": "text/x-python",
   "name": "python",
   "nbconvert_exporter": "python",
   "pygments_lexer": "ipython2",
   "version": "2.7.9"
  },
  "latex_envs": {
   "bibliofile": "",
   "cite_by": "apalike",
   "current_citInitial": 1,
   "eqLabelWithNumbers": true,
   "eqNumInitial": 0
  }
 },
 "nbformat": 4,
 "nbformat_minor": 0
}
