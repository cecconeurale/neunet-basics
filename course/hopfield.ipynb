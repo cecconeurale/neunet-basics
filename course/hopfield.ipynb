{
 "cells": [
  {
   "cell_type": "markdown",
   "metadata": {
    "code_folding": []
   },
   "source": [
    "# The Hopfield network"
   ]
  },
  {
   "cell_type": "markdown",
   "metadata": {},
   "source": [
    "A Hopfield network is a form of recurrent artificial neural network popularized by John Hopfield in [1982](http://www.ncbi.nlm.nih.gov/pubmed/6953413).  Hopfield nets are autoassociative networks, which means that patterns of their own activity are stored in the network inner weights by associating the concurrent  activations of the network units in a hebbian way. Such a network can retrieve a piece of data from only a tiny sample of itself, because the activated units trigger all the others that are associated with them."
   ]
  },
  {
   "cell_type": "markdown",
   "metadata": {},
   "source": [
    "figure 1: an abstract example showing the functioning of an autoassociative network. On the left the network weights after learning. On the center, we trigger only one unit. On the right, all the associated units become activated.\n",
    "\n",
    "![figure_1](hopfield.png)"
   ]
  },
  {
   "cell_type": "markdown",
   "metadata": {},
   "source": [
    "### Spreading\n",
    "\n",
    "The activation of a unit in a Hopfield network is updated by evaluating the sign of the weighted sum of its inputs:\n",
    "$$ x_i =\n",
    "  \\begin{cases}\n",
    "    -1  & \\quad \\text{if } \\sum_{j} w_{ij}x_j <  0\\\\\n",
    "     1  & \\quad \\text{otherwise}\\\\\n",
    "  \\end{cases}\n",
    "$$\n",
    "There are two ways to implement the update of the units: **synchronous** and **asynchronous** update.  \n",
    "\n",
    "#### Syncronous update\n",
    "\n",
    "The units are updated altogether at each step, using as inputs the freezed activations of themselves at the previous step. \n",
    "\n",
    "In python you can write:\n",
    "\n",
    "```python\n",
    "for i in xrange(n):    # n = len(x)\n",
    "    w_sum = 0\n",
    "    for j in xrange(n):\n",
    "        w_sum += w[i,j]*x_previous[j]\n",
    "    x[i] = sgn(w_sum)\n",
    "...\n",
    "...\n",
    "x_previous = x\n",
    "```\n",
    "Using linear algebra we can rewrite it in a shorter form as:\n",
    "$$\n",
    "\\mathbf{x} = sgn(\\mathbf{W}\\mathbf{x})\n",
    "$$\n",
    "where $\\mathbf{x}$ is the vector of activations, $\\mathbf{W}$ is the matrix of inner weights and all the weighted sums are calculated at once with the [dot product](https://en.wikipedia.org/wiki/Dot_product#Algebraic_definition) $\\mathbf{W}\\mathbf{x}$. \n",
    "Linear algebra notation is a far better way to implement neural networks in a program than iterating units. In particular, writing formulas with linear algebra notation in python (through the numpy library) improves both speed and readability. In the case of units activations in python you can write:\n",
    "```python\n",
    "x = sgn(dot(w,x))\n",
    "```\n",
    "that is far simpler than writing two nested loops and storing previous values in another vector, and also produces a much efficient \n",
    "code in terms of speed!!  \n",
    "\n",
    "#### Asynchronous update\n",
    "\n",
    "At each step a unit is randomly chosen for the update, while the others remain immutated. In python you write:\n",
    "```python\n",
    "i = chosen_index\n",
    "w_sum = 0\n",
    "for j in xrange(n):\n",
    "    w_sum += w[i,j]*x[j]\n",
    "x[i] = sgn(w_sum)\n",
    "```\n",
    "Using linear algebra leads to a shorter form also in this case:`\n",
    "\n",
    "```python\n",
    "i = chosen_index\n",
    "x[i] = sgn(w[i,:],x)\n",
    "```\n",
    "Note how we don't need to store previous values here. \n",
    "\n",
    "In the simulation described below we will use asynchronous update (in a way it seems more biologicaly plausible).\n",
    "\n",
    "### Learning\n",
    "\n",
    "The learning of the weights is done offline at the start of the simulation. To update the weights you just treat each pattern $\\mathbf{p}_k$ (with $k = 1,...,n_p$) as if it were the current vector of activations of the network units and increase those weights where the activity at the two endings are high ([hebbian learning](https://en.wikipedia.org/wiki/Hebbian_theory#Principles)). This is done in practice by multiplying the two activities at the endings of each weight. The total amount of update is then calculated by adding together all the increments due to the different patterns to be learned. Finally the result is divided times the number of patterns to learn so that the weights are normalized. Putting it all together you have:\n",
    "$$\n",
    "w_{i,j} = \\frac{1}{n_p} \\sum_k p^k_i p^k_j \n",
    "$$\n",
    "In python we can write:\n",
    "```python\n",
    "w = zeros([n,n])\n",
    "for p in P:    # P is an array of p vectors\n",
    "    for i in xrange(np):    # np = len(p)\n",
    "        for j in xrange(np):\n",
    "            if i != j :     # autoconnections are forbidden in Hopfield nets\n",
    "                w[i,j] += (1/float(np))*p[i]*p[j]\n",
    "```\n",
    "Where `P` is an array with `np` rows of `p` patterns.\n",
    "\n",
    "Once again linear algebra can help us and we can rewrite the learning rule as:\n",
    "$$\n",
    "    \\mathbf{W} = \\frac{1}{n_p}\\sum_k \\mathbf{p}_k \\mathbf{p}_k^T\n",
    "$$\n",
    "Where  $ \\mathbf{p}_k \\mathbf{p}_k^T$ is the [outer product](https://en.wikipedia.org/wiki/Outer_product#Definition_.28matrix_multiplication.29) of $\\mathbf{p}_k$ with itself. In python it becomes:\n",
    "```python\n",
    "for p in P:\n",
    "    w += (1/float(np))*outer(p,p)\n",
    "w *= 1.0 - eye(n,n)     # we cut autoconnections afterward\n",
    "```\n",
    "In this case we have only one loop instead of three!! \n",
    "<p></p>\n",
    "<div class=\"evidence\">*A general rule: **dot product** is for spreading the activity throughout a network, while **outer product** is for weight update*.</div>\n",
    "\n",
    "### Energy function\n",
    "In each state of the network we can calculate a value that is given by:\n",
    "$$\n",
    "E = -\\frac{1}{2}\\sum_{i,j}w_{i,j}x_{i}x_{j}\n",
    "$$\n",
    "or in linear algebra notation:\n",
    "$$\n",
    "E = -\\frac{1}{2} \\mathbf{x}^T\\mathbf{W}\\mathbf{x}\n",
    "$$\n",
    "Hopfield proved that this value can only decrease or stay the same. When $E$ ceases to change the network has reached one of its attractor states. if the learned patterns are sufficiently orthogonal with each other attractor states correspond to the recalled patterns.\n",
    "\n",
    "In python it is:\n",
    "```python\n",
    "E = -0.5*dot(x,dot(w,x))\n",
    "```"
   ]
  },
  {
   "cell_type": "markdown",
   "metadata": {},
   "source": [
    "## Implementing a simulation"
   ]
  },
  {
   "cell_type": "code",
   "execution_count": 12,
   "metadata": {
    "collapsed": true
   },
   "outputs": [],
   "source": [
    "%matplotlib inline\n",
    "from pylab import *"
   ]
  },
  {
   "cell_type": "markdown",
   "metadata": {},
   "source": [
    "Let us implement a simulation using images from [the MNIST dataset](http://nbviewer.ipython.org/github/francesco-mannella/neunet-basics/blob/master/course/mnist.ipynb) as patterns."
   ]
  },
  {
   "cell_type": "markdown",
   "metadata": {},
   "source": [
    "####  Utility functions\n",
    "We prepare some utility functions:"
   ]
  },
  {
   "cell_type": "markdown",
   "metadata": {},
   "source": [
    "This will be our main **plotting** utility:"
   ]
  },
  {
   "cell_type": "code",
   "execution_count": 13,
   "metadata": {
    "collapsed": true
   },
   "outputs": [],
   "source": [
    "# set the maximum number of plots to be printed in a row\n",
    "windows = 8\n",
    "\n",
    "# a custom plot that uses imshow to draw a matrix\n",
    "# x:        array           the matrix to be plotted\n",
    "# fig:      figure object   figure device to use\n",
    "# window:   int             the current subplot position\n",
    "# windows   int             number of subplot\n",
    "def plot_img(x, fig, window, windows=windows) :\n",
    "    ax = fig.add_subplot(1,windows,window)\n",
    "    ax.imshow(x, interpolation='none', aspect='auto', cmap=cm.Greys)  \n",
    "    axis('off')\n",
    "    fig.canvas.draw()"
   ]
  },
  {
   "cell_type": "markdown",
   "metadata": {},
   "source": [
    "We will use this to convert raw vectors taken from the dataset into matrices to be plotted as images:"
   ]
  },
  {
   "cell_type": "code",
   "execution_count": 14,
   "metadata": {
    "collapsed": true
   },
   "outputs": [],
   "source": [
    "# transorm a raw input in an image matrix  \n",
    "# x:      array    the raw input vector\n",
    "# return  array    a squared matrix\n",
    "def to_mat(x) :\n",
    "    return x.reshape( img_side, img_side )"
   ]
  },
  {
   "cell_type": "markdown",
   "metadata": {},
   "source": [
    "#### Init the dataset\n",
    "First we initialize the dataset:"
   ]
  },
  {
   "cell_type": "code",
   "execution_count": 15,
   "metadata": {
    "collapsed": false,
    "run_control": {
     "marked": false
    }
   },
   "outputs": [],
   "source": [
    "#### download the dataset \n",
    "# get the script from internet\n",
    "! wget https://raw.githubusercontent.com/sorki/python-mnist/master/get_data.sh > /dev/null 2>&1  \n",
    "# run it to dovnload all files in a local dir named 'data'\n",
    "! bash get_data.sh >/dev/null 2>&1\n",
    "# we do not need the script anymore, remove it\n",
    "! rm get_data.sh* > /dev/null 2>&1\n",
    "\n",
    "# initialize the dataset variables\n",
    "\n",
    "# the mnist class\n",
    "from mnist import MNIST\n",
    "# initializing with our data dir\n",
    "mndata = MNIST('./data')   \n",
    "# we only need the training set\n",
    "mndata.load_training()\n",
    "\n",
    "# set the side lenght of images\n",
    "img_side = 28   \n",
    "\n",
    "# each input is a raw vector.\n",
    "# the number of units of the network \n",
    "# corresponds to the number of input elements\n",
    "n = img_side*img_side "
   ]
  },
  {
   "cell_type": "markdown",
   "metadata": {},
   "source": [
    "We now fill a array with all parameters. We only need few samples, we take them from the training set. \n",
    "We take samples 2 and 5, representing respectively a '4' and a '2'"
   ]
  },
  {
   "cell_type": "code",
   "execution_count": 16,
   "metadata": {
    "collapsed": true,
    "run_control": {
     "marked": false
    }
   },
   "outputs": [],
   "source": [
    "# take two rows\n",
    "patterns = array(mndata.train_images)[[2,5],]\n",
    "# we need only the sign (transform to binary input)\n",
    "patterns = sign(patterns/255.0 - 0.5)\n",
    "\n",
    "# set the number of patterns (two in out case)\n",
    "n_patterns = patterns.shape[0]"
   ]
  },
  {
   "cell_type": "markdown",
   "metadata": {},
   "source": [
    "Let us visualize our two patterns:"
   ]
  },
  {
   "cell_type": "code",
   "execution_count": 17,
   "metadata": {
    "collapsed": false
   },
   "outputs": [
    {
     "data": {
      "image/png": "[encoded data removed]",
      "text/plain": [
       "<matplotlib.figure.Figure at 0x7f801b785750>"
      ]
     },
     "metadata": {},
     "output_type": "display_data"
    }
   ],
   "source": [
    "fig = figure(figsize = (8,4))\n",
    "for i in xrange(n_patterns):\n",
    "    plot_img( to_mat(patterns[i]), fig, i+1, windows = 2 )"
   ]
  },
  {
   "cell_type": "markdown",
   "metadata": {},
   "source": [
    "#### The learning \n",
    "\n",
    "Learning of the weight happens offline at the beginning, in one shot:"
   ]
  },
  {
   "cell_type": "code",
   "execution_count": 18,
   "metadata": {
    "collapsed": true,
    "run_control": {
     "marked": false
    }
   },
   "outputs": [],
   "source": [
    "# initialize weights to zero values\n",
    "W = zeros([n,n])\n",
    "\n",
    "# accumulate outer products \n",
    "for pattern in patterns :\n",
    "    W += outer(pattern, pattern)\n",
    "\n",
    "# divide times the number of patterns\n",
    "W /= float(n_patterns)\n",
    "\n",
    "# exclude the autoconnections\n",
    "W *= 1.0 - eye(n,n)"
   ]
  },
  {
   "cell_type": "markdown",
   "metadata": {},
   "source": [
    "Here is a visualization of the resulting matrix of weights:"
   ]
  },
  {
   "cell_type": "code",
   "execution_count": 19,
   "metadata": {
    "collapsed": false,
    "run_control": {
     "marked": false
    }
   },
   "outputs": [
    {
     "data": {
      "image/png": "[encoded data removed]",
      "text/plain": [
       "<matplotlib.figure.Figure at 0x7f801b785110>"
      ]
     },
     "metadata": {},
     "output_type": "display_data"
    }
   ],
   "source": [
    "fig = figure(figsize=(10,8))\n",
    "imshow(W,cmap=cm.coolwarm)\n",
    "colorbar()\n",
    "show()"
   ]
  },
  {
   "cell_type": "markdown",
   "metadata": {},
   "source": [
    "#### The real simulation, iterating the timesteps\n",
    "\n",
    "Now we implement th core part, defining what happens in each timestep"
   ]
  },
  {
   "cell_type": "code",
   "execution_count": 20,
   "metadata": {
    "code_folding": [],
    "collapsed": false,
    "run_control": {
     "marked": false
    },
    "scrolled": false
   },
   "outputs": [
    {
     "data": {
      "image/png": "[encoded data removed]",
      "text/plain": [
       "<matplotlib.figure.Figure at 0x7f801aa6b9d0>"
      ]
     },
     "metadata": {},
     "output_type": "display_data"
    },
    {
     "data": {
      "image/png": "[encoded data removed]",
      "text/plain": [
       "<matplotlib.figure.Figure at 0x7f801a98cd50>"
      ]
     },
     "metadata": {},
     "output_type": "display_data"
    },
    {
     "data": {
      "image/png": "[encoded data removed]",
      "text/plain": [
       "<matplotlib.figure.Figure at 0x7f80166e9350>"
      ]
     },
     "metadata": {},
     "output_type": "display_data"
    },
    {
     "data": {
      "image/png": "[encoded data removed]",
      "text/plain": [
       "<matplotlib.figure.Figure at 0x7f8016742cd0>"
      ]
     },
     "metadata": {},
     "output_type": "display_data"
    },
    {
     "data": {
      "image/png": "[encoded data removed]",
      "text/plain": [
       "<matplotlib.figure.Figure at 0x7f80183ef590>"
      ]
     },
     "metadata": {},
     "output_type": "display_data"
    },
    {
     "data": {
      "image/png": "[encoded data removed]",
      "text/plain": [
       "<matplotlib.figure.Figure at 0x7f8015fe5750>"
      ]
     },
     "metadata": {},
     "output_type": "display_data"
    },
    {
     "data": {
      "image/png": "[encoded data removed]",
      "text/plain": [
       "<matplotlib.figure.Figure at 0x7f80183de890>"
      ]
     },
     "metadata": {},
     "output_type": "display_data"
    },
    {
     "data": {
      "image/png": "[encoded data removed]",
      "text/plain": [
       "<matplotlib.figure.Figure at 0x7f8016afc450>"
      ]
     },
     "metadata": {},
     "output_type": "display_data"
    },
    {
     "data": {
      "image/png": "[encoded data removed]",
      "text/plain": [
       "<matplotlib.figure.Figure at 0x7f80166c71d0>"
      ]
     },
     "metadata": {},
     "output_type": "display_data"
    },
    {
     "data": {
      "image/png": "[encoded data removed]",
      "text/plain": [
       "<matplotlib.figure.Figure at 0x7f80168476d0>"
      ]
     },
     "metadata": {},
     "output_type": "display_data"
    },
    {
     "data": {
      "image/png": "[encoded data removed]",
      "text/plain": [
       "<matplotlib.figure.Figure at 0x7f80161b0290>"
      ]
     },
     "metadata": {},
     "output_type": "display_data"
    },
    {
     "data": {
      "image/png": "[encoded data removed]",
      "text/plain": [
       "<matplotlib.figure.Figure at 0x7f801611db90>"
      ]
     },
     "metadata": {},
     "output_type": "display_data"
    },
    {
     "data": {
      "image/png": "[encoded data removed]",
      "text/plain": [
       "<matplotlib.figure.Figure at 0x7f8016094610>"
      ]
     },
     "metadata": {},
     "output_type": "display_data"
    },
    {
     "data": {
      "image/png": "[encoded data removed]",
      "text/plain": [
       "<matplotlib.figure.Figure at 0x7f8016ac8750>"
      ]
     },
     "metadata": {},
     "output_type": "display_data"
    },
    {
     "data": {
      "image/png": "[encoded data removed]",
      "text/plain": [
       "<matplotlib.figure.Figure at 0x7f80163a9790>"
      ]
     },
     "metadata": {},
     "output_type": "display_data"
    },
    {
     "data": {
      "image/png": "[encoded data removed]",
      "text/plain": [
       "<matplotlib.figure.Figure at 0x7f80166d08d0>"
      ]
     },
     "metadata": {},
     "output_type": "display_data"
    },
    {
     "data": {
      "image/png": "[encoded data removed]",
      "text/plain": [
       "<matplotlib.figure.Figure at 0x7f8016826490>"
      ]
     },
     "metadata": {},
     "output_type": "display_data"
    },
    {
     "data": {
      "image/png": "[encoded data removed]",
      "text/plain": [
       "<matplotlib.figure.Figure at 0x7f8015fc3a10>"
      ]
     },
     "metadata": {},
     "output_type": "display_data"
    }
   ],
   "source": [
    "# number of timesteps\n",
    "stime = 1000\n",
    "\n",
    "# we simulate two iteration, each one starting\n",
    "# with a coorupted version of one of our two patterns\n",
    "for target_index in [0,1] :\n",
    "\n",
    "    # first copy the original pattern\n",
    "    target = patterns[target_index]\n",
    "    x = target.copy()\n",
    "    # then modify the second half of the image \n",
    "    # putting random binary values\n",
    "    x[(n/2):] = sign(randn(n/2))\n",
    "\n",
    "    #------------------------------------------------------ \n",
    "    #--- PLOTTING ----------------------------------------- \n",
    "    #------------------------------------------------------ \n",
    "    # we plot the target and its corrupted version \n",
    "    # from which we start\n",
    "    fig = figure(figsize=(8,4))        \n",
    "    plot_img( to_mat(target), fig, 1, windows = 2)\n",
    "    plot_img( to_mat(x), fig, 2, windows = 2)\n",
    "    win_count = 0\n",
    "    #------------------------------------------------------ \n",
    "    #------------------------------------------------------\n",
    "    \n",
    "    # during the iterations we need to peek \n",
    "    # one unit at random. Thus we must prepare\n",
    "    # a random sequence of indices:\n",
    "    #    we get the sequence of indices \n",
    "    #    of the network units\n",
    "    x_indices = arange(n)\n",
    "    #    and we shuffle it\n",
    "    shuffle(x_indices)\n",
    "    \n",
    "    # init the story of energy to a zero vector,\n",
    "    # we will fill it in at each timestep and we will \n",
    "    # plot it at the end\n",
    "    E = zeros(stime)\n",
    "    \n",
    "    # the iterations\n",
    "    for t in xrange(stime) :\n",
    "        # we get the current index browsing \n",
    "        # the random sequence \n",
    "        current_x = x_indices[t%n]   \n",
    "        \n",
    "        # activation of a unit\n",
    "        x[current_x] = sign(dot(W[current_x,:],x))\n",
    "        \n",
    "        # energy of the current state of the network\n",
    "        E[t] = -0.5*dot(x,dot(W,x))\n",
    "        \n",
    "        #--------------------------------------------------\n",
    "        #--- PLOTTING ------------------------------------- \n",
    "        #--------------------------------------------------\n",
    "        current_window = t%windows +1  \n",
    "        # we plot each 20th step\n",
    "        if win_count%20 == 0 :\n",
    "            \n",
    "            # change row at each 'windows'th plot\n",
    "            if current_window == 1 :\n",
    "                fig = figure(figsize=(10,1.5))    \n",
    "                \n",
    "            plot_img( to_mat(x), fig, current_window )\n",
    "            \n",
    "            if current_window == windows :\n",
    "                show()\n",
    "        \n",
    "        win_count += (t%windows == 0)\n",
    "        #--------------------------------------------------\n",
    "        #--------------------------------------------------\n",
    "    \n",
    "    \n",
    "    # plot the energy\n",
    "    figure(figsize=(10,4)) \n",
    "    title(\"Energy\")\n",
    "    plot(E, linewidth = 3)\n",
    "    gca().yaxis.set_visible(False)\n",
    "    show()    "
   ]
  },
  {
   "cell_type": "code",
   "execution_count": 30,
   "metadata": {
    "collapsed": false,
    "run_control": {
     "marked": true
    }
   },
   "outputs": [
    {
     "data": {
      "text/html": [
       "<style>\n",
       "\n",
       "/* PRINT */\n",
       "\n",
       "/* EVIDENCE */\n",
       "div.evidence { color: #FFFFFF; }\n",
       "\n",
       "/* FONT_SIZE_EVIDENCE */\n",
       "div.evidence { font-size: 18px;} \n",
       "\n",
       "/* BACKGROUND_EVIDENCE */\n",
       "div.evidence { background_color: #000000; }\n",
       "\n",
       "\n",
       "/* FONT_CODE */\n",
       ".input_area pre { font-size:12px; line-height:120% }\n",
       "\n",
       "/* FONT_TEXT */\n",
       "div.text_cell_render { font-size:18px; }\n",
       "\n",
       "/* FONT_QUOTE */\n",
       ".text_cell_render pre { font-size:12px; line-height:120% }\n",
       "\n",
       "/* BACKGROUND */\n",
       "div .input_area { background-color:#000000;}\n",
       "\n",
       "/* BUILTIN */\n",
       ".input_area .highlight .bp { color: #CD5C5C } /* Name.Builtin.Pseudo */\n",
       "\n",
       "/* KEYWORD */\n",
       ".input_area .highlight .k { color: #F0E68C; font-weight: bold } /* Keyword */\n",
       ".input_area .highlight .kc { color: #F0E68C; font-weight: bold } /* Keyword.Constant */\n",
       ".input_area .highlight .kd { color: #F0E68C; font-weight: bold } /* Keyword.Declaration */\n",
       ".input_area .highlight .kn { color: #F0E68C; font-weight: bold } /* Keyword.Namespace */\n",
       ".input_area .highlight .kp { color: #F0E68C; font-weight: bold } /* Keyword.Pseudo */\n",
       ".input_area .highlight .kr { color: #F0E68C; font-weight: bold } /* Keyword.Reserved */\n",
       ".input_area .highlight .kt { color: #F0E68C; font-weight: bold } /* Keyword.Type */\n",
       ".input_area .highlight .ow { color: #F0E68C; font-weight: bold } /* Operator.Word */\n",
       "\n",
       "/* VARIABLE */\n",
       ".input_area .highlight pre { color: #FFFFFF }\n",
       ".input_area .highlight .n { color: #FFFFFF } /* Name.Variable */\n",
       ".input_area .highlight .nv { color: #FFFFFF } /* Name.Variable */\n",
       ".input_area .highlight .na { color: #FFFFFF } /* Name.Attribute */\n",
       ".input_area .highlight .no { color: #FFFFFF } /* Name.Constant */\n",
       ".input_area .highlight .nl { color: #FFFFFF } /* Name.Label */\n",
       "\n",
       "/* FUNCTION */\n",
       ".input_area .highlight .nb { color: #BDB76B } /* Name.Builtin */\n",
       ".input_area .highlight .nf { color: #BDB76B } /* Name.Function */\n",
       ".input_area .highlight .vc { color: #BDB76B } /* Name.Variable.Class */\n",
       ".input_area .highlight .vg { color: #BDB76B } /* Name.Variable.Global */\n",
       ".input_area .highlight .vi { color: #BDB76B } /* Name.Variable.Instance */\n",
       ".input_area .highlight .nc { color: #BDB76B } /* Name.Class */\n",
       ".input_area .highlight .ni { color: #BDB76B } /* Name.Entity */\n",
       ".input_area .highlight .ne { color: #BDB76B } /* Name.Exception */\n",
       ".input_area .highlight .nn { color: #BDB76B } /* Name.Namespace */\n",
       ".input_area .highlight .nt { color: #BDB76B } /* Name.Tag */\n",
       "\n",
       "\n",
       "\n",
       "/* OPERATOR */\n",
       ".input_area .highlight .o { color: #FFFFFF; font-weight:bold } /* Operator */\n",
       ".input_area .highlight .p { color: #FFFFFF; font-weight:bold } /* Operator */\n",
       "\n",
       "\n",
       "/* DECORATOR */\n",
       ".input_area .highlight .nd { color: #BDB76B } /* Name.Decorator */\n",
       "\n",
       "\n",
       "/* COMMENT */\n",
       ".input_area .highlight .c { color: #87CEEB; font-style: italic } /* Comment */\n",
       ".input_area .highlight .cm { color: #87CEEB; font-style: italic } /* Comment.Multiline */\n",
       ".input_area .highlight .cp { color: #87CEEB; } /* Comment.Preproc */\n",
       ".input_area .highlight .c1 { color: #87CEEB; font-style: italic } /* Comment.Single */\n",
       ".input_area .highlight .cs { color: #87CEEB; font-style: italic } /* Comment.Special */\n",
       "\n",
       "\n",
       "/* NUMBER */\n",
       ".input_area .highlight .mb { color: #98FB98 } /* Literal.Number.Bin */\n",
       ".input_area .highlight .mf { color: #98FB98 } /* Literal.Number.Float */\n",
       ".input_area .highlight .mh { color: #98FB98 } /* Literal.Number.Hex */\n",
       ".input_area .highlight .mi { color: #98FB98 } /* Literal.Number.Integer */\n",
       ".input_area .highlight .mo { color: #98FB98 } /* Literal.Number.Oct */\n",
       ".input_area .highlight .m { color: #98FB98 } /* Literal.Number */\n",
       ".input_area .highlight .il { color: #98FB98 } /* Literal.Number.Integer.Long */\n",
       "\n",
       "/* STRING */\n",
       ".input_area .highlight .s { color: #FFA0A0 } /* Literal.String */\n",
       ".input_area .highlight .w { color: #FFA0A0 } /* Text.Whitespace */\n",
       ".input_area .highlight .sb { color: #FFA0A0 } /* Literal.String.Backtick */\n",
       ".input_area .highlight .sc { color: #FFA0A0 } /* Literal.String.Char */\n",
       ".input_area .highlight .sd { color: #FFA0A0; font-style: italic } /* Literal.String.Doc */\n",
       ".input_area .highlight .s2 { color: #FFA0A0 } /* Literal.String.Double */\n",
       ".input_area .highlight .se { color: #FFA0A0; font-weight: bold } /* Literal.String.Escape */\n",
       ".input_area .highlight .sh { color: #FFA0A0 } /* Literal.String.Heredoc */\n",
       ".input_area .highlight .si { color: #FFA0A0; font-weight: bold } /* Literal.String.Interpol */\n",
       ".input_area .highlight .sx { color: #FFA0A0 } /* Literal.String.Other */\n",
       ".input_area .highlight .sr { color: #FFA0A0 } /* Literal.String.Regex */\n",
       ".input_area .highlight .s1 { color: #FFA0A0 } /* Literal.String.Single */\n",
       ".input_area .highlight .ss { color: #FFA0A0 } /* Literal.String.Symbol */\n",
       "\n",
       "\n",
       "\n",
       "/********************************************************************************/\n",
       "/********************************************************************************/\n",
       "\n",
       "/* JUPYTER */\n",
       "\n",
       "/* FONT_EDIT */\n",
       ".cm-s-default span { font-size:18px; line-height:120% }\n",
       "\n",
       "/* BACKGROUND_EDIT */\n",
       "div .cm-s-default { background-color: #888888;}\n",
       "\n",
       "/* CURSOR */\n",
       ".input_area .CodeMirror div.CodeMirror-cursor { border-left: 5px solid #FFFFFF; }\n",
       ".input_area .CodeMirror div.CodeMirror-secondarycursor { border-left: 5px solid #FFFFFF;}\n",
       ".input_area .CodeMirror.cm-fat-cursor div.CodeMirror-cursor { background: #FFFFFF;}\n",
       ".input_area .cm-animate-fat-cursor { background-color: #FFFFFF; }\n",
       "\n",
       "/* BUILTIN */\n",
       ".input_area .cm-s-ipython span.cm-builtin { color: #CD5C5C } \n",
       ".input_area .cm-s-ipython span.cm-variable-2 { color: #CD5C5C } \n",
       ".input_area .cm-s-ipython span.cm-variable-3 { color: #CD5C5C } \n",
       "\n",
       "/* KEYWORD */\n",
       ".input_area .cm-s-ipython span.cm-keyword { color: #F0E68C; font-weight:700 } \n",
       "\n",
       "/* VARIABLE */\n",
       ".input_area span.cm-variable { color: #FFFFFF } \n",
       ".input_area span.cm-def { color: #FFFFFF } \n",
       "\n",
       "\n",
       "/* OPERATOR */\n",
       ".input_area .cm-s-ipython span.cm-operator { color: #FFFFFF; font-weight:700 } \n",
       ".input_area .cm-s-ipython span { color: #FFFFFF; font-weight:700 } \n",
       "\n",
       "/* DECORATOR */\n",
       ".input_area .cm-s-ipython span.cm-meta { color: #BDB76B } \n",
       "\n",
       "/* COMMENT */\n",
       ".input_area .cm-s-ipython span.cm-comment { color:#87CEEB; font-style:italic } \n",
       "\n",
       "/* NUMBER */\n",
       ".input_area .cm-s-ipython span.cm-number { color: #98FB98 } \n",
       "\n",
       "/* STRING */\n",
       ".input_area .cm-s-ipython span.cm-string { color: #FFA0A0 } \n",
       ".input_area .cm-s-ipython span.cm-string-2 { color: #FFA0A0 } \n",
       "\n",
       "</style>\n"
      ],
      "text/plain": [
       "<IPython.core.display.HTML object>"
      ]
     },
     "execution_count": 30,
     "metadata": {},
     "output_type": "execute_result"
    }
   ],
   "source": [
    "from IPython.core.display import HTML\n",
    "def css_styling():\n",
    "    styles = open(\"../style/ipybn.css\", \"r\").read()\n",
    "    return HTML(styles)\n",
    "css_styling()"
   ]
  }
 ],
 "metadata": {
  "css": [
   ""
  ],
  "kernelspec": {
   "display_name": "Python 2",
   "language": "python",
   "name": "python2"
  },
  "language_info": {
   "codemirror_mode": {
    "name": "ipython",
    "version": 2
   },
   "file_extension": ".py",
   "mimetype": "text/x-python",
   "name": "python",
   "nbconvert_exporter": "python",
   "pygments_lexer": "ipython2",
   "version": "2.7.9"
  },
  "latex_envs": {
   "bibliofile": "biblio.bib",
   "cite_by": "apalike",
   "current_citInitial": 1,
   "eqLabelWithNumbers": true,
   "eqNumInitial": 0
  }
 },
 "nbformat": 4,
 "nbformat_minor": 0
}
