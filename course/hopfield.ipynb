{
 "cells": [
  {
   "cell_type": "markdown",
   "metadata": {
    "code_folding": []
   },
   "source": [
    "# The Hopfield network"
   ]
  },
  {
   "cell_type": "markdown",
   "metadata": {},
   "source": [
    "First we initialize the dataset (see [The MNIST dataset](http://nbviewer.ipython.org/github/francesco-mannella/neunet-basics/blob/master/course/mnist.ipynb) )\n"
   ]
  },
  {
   "cell_type": "code",
   "execution_count": 10,
   "metadata": {
    "collapsed": false,
    "run_control": {
     "marked": false
    }
   },
   "outputs": [],
   "source": [
    "# download the dataset \n",
    "! wget https://raw.githubusercontent.com/sorki/python-mnist/master/get_data.sh > /dev/null 2>&1  \n",
    "! bash get_data.sh >/dev/null 2>&1\n",
    "! rm get_data.sh* > /dev/null 2>&1\n",
    "\n",
    "# initialize the dataset variables\n",
    "from mnist import MNIST\n",
    "mndata = MNIST('./data')\n",
    "mndata.load_training() # we only need the training set\n",
    "img_side = 28"
   ]
  },
  {
   "cell_type": "markdown",
   "metadata": {},
   "source": [
    "Now we start to build the network:"
   ]
  },
  {
   "cell_type": "code",
   "execution_count": 58,
   "metadata": {
    "collapsed": false,
    "run_control": {
     "marked": false
    }
   },
   "outputs": [],
   "source": [
    "%matplotlib inline\n",
    "from pylab import *\n",
    "\n",
    "# the number of units of the network\n",
    "n = img_side*img_side \n",
    "\n",
    "# we only need few samples, we take them from the training set\n",
    "n_patterns = 2\n",
    "\n",
    "# init patterns\n",
    "patterns = array(mndata.train_images)[[2,5,7],]\n",
    "patterns = sign(patterns/255.0 - 0.5)\n",
    "patterns = patterns[:n_patterns]"
   ]
  },
  {
   "cell_type": "markdown",
   "metadata": {},
   "source": [
    "Learning of the weight happens offline at the beginning, in one shot:"
   ]
  },
  {
   "cell_type": "code",
   "execution_count": 59,
   "metadata": {
    "collapsed": true,
    "run_control": {
     "marked": false
    }
   },
   "outputs": [],
   "source": [
    "W = zeros([n,n])\n",
    "for pattern in patterns :\n",
    "    W += outer(pattern, pattern)\n",
    "W /= float(n_patterns)\n",
    "W *= (1.0 - eye(n,n))"
   ]
  },
  {
   "cell_type": "markdown",
   "metadata": {},
   "source": [
    "Here is the resulting matrix of weights:"
   ]
  },
  {
   "cell_type": "code",
   "execution_count": 60,
   "metadata": {
    "collapsed": false,
    "run_control": {
     "marked": false
    }
   },
   "outputs": [
    {
     "data": {
      "image/png": "[encoded data removed]",
      "text/plain": [
       "<matplotlib.figure.Figure at 0x7fe6546c3e10>"
      ]
     },
     "metadata": {},
     "output_type": "display_data"
    }
   ],
   "source": [
    "imshow(W,cmap=cm.coolwarm)\n",
    "colorbar()\n",
    "show()"
   ]
  },
  {
   "cell_type": "code",
   "execution_count": 70,
   "metadata": {
    "collapsed": true
   },
   "outputs": [],
   "source": [
    "windows = 20\n",
    "\n",
    "def plot_img(x, fig, window, windows=windows) :\n",
    "    ax = fig.add_subplot(1,windows,window)\n",
    "    ax.imshow(x, interpolation='none', \n",
    "          aspect='auto', cmap=cm.gray)  \n",
    "    axis('off')\n",
    "    fig.canvas.draw()\n",
    "\n",
    "def to_mat(x) :\n",
    "    return x.reshape( img_side, img_side )"
   ]
  },
  {
   "cell_type": "code",
   "execution_count": 74,
   "metadata": {
    "collapsed": false,
    "run_control": {
     "marked": false
    }
   },
   "outputs": [
    {
     "data": {
      "image/png": "[encoded data removed]",
      "text/plain": [
       "<matplotlib.figure.Figure at 0x7fe675df7f10>"
      ]
     },
     "metadata": {},
     "output_type": "display_data"
    },
    {
     "data": {
      "image/png": "[encoded data removed]",
      "text/plain": [
       "<matplotlib.figure.Figure at 0x7fe653775550>"
      ]
     },
     "metadata": {},
     "output_type": "display_data"
    },
    {
     "data": {
      "image/png": "[encoded data removed]",
      "text/plain": [
       "<matplotlib.figure.Figure at 0x7fe656b79ad0>"
      ]
     },
     "metadata": {},
     "output_type": "display_data"
    },
    {
     "ename": "IndexError",
     "evalue": "index 2 is out of bounds for axis 0 with size 2",
     "output_type": "error",
     "traceback": [
      "\u001b[1;31m---------------------------------------------------------------------------\u001b[0m",
      "\u001b[1;31mIndexError\u001b[0m                                Traceback (most recent call last)",
      "\u001b[1;32m<ipython-input-74-ee7aca7b89e5>\u001b[0m in \u001b[0;36m<module>\u001b[1;34m()\u001b[0m\n\u001b[0;32m      3\u001b[0m \u001b[1;32mfor\u001b[0m \u001b[0mtarget\u001b[0m \u001b[1;32min\u001b[0m \u001b[1;33m[\u001b[0m\u001b[1;36m1\u001b[0m\u001b[1;33m,\u001b[0m\u001b[1;36m2\u001b[0m\u001b[1;33m]\u001b[0m \u001b[1;33m:\u001b[0m\u001b[1;33m\u001b[0m\u001b[0m\n\u001b[0;32m      4\u001b[0m \u001b[1;33m\u001b[0m\u001b[0m\n\u001b[1;32m----> 5\u001b[1;33m     \u001b[0mx\u001b[0m \u001b[1;33m=\u001b[0m \u001b[0msign\u001b[0m\u001b[1;33m(\u001b[0m\u001b[0mpatterns\u001b[0m\u001b[1;33m[\u001b[0m\u001b[0mtarget\u001b[0m\u001b[1;33m]\u001b[0m\u001b[1;33m)\u001b[0m\u001b[1;33m\u001b[0m\u001b[0m\n\u001b[0m\u001b[0;32m      6\u001b[0m \u001b[1;33m\u001b[0m\u001b[0m\n\u001b[0;32m      7\u001b[0m \u001b[1;33m\u001b[0m\u001b[0m\n",
      "\u001b[1;31mIndexError\u001b[0m: index 2 is out of bounds for axis 0 with size 2"
     ]
    }
   ],
   "source": [
    "stime = 800\n",
    "\n",
    "for target in [1,2] :\n",
    "\n",
    "    x = sign(patterns[target])\n",
    "    \n",
    "    \n",
    "    fig = figure(figsize=(10,1))        \n",
    "    plot_img( to_mat(x), fig, 1 )\n",
    "    \n",
    "    x[(n/2):] = sign(randn(n/2))\n",
    "    plot_img( to_mat(x), fig, 2 )\n",
    "    \n",
    "    win_count = 0\n",
    "    x_indices = arange(n)\n",
    "    shuffle(x_indices)\n",
    "    \n",
    "    for t in xrange(stime) :\n",
    "        current_x = x_indices[t%n] \n",
    "        current_window = t%windows +1  \n",
    "          \n",
    "        x[current_x] = sign(dot(W[current_x,:],x))\n",
    "                \n",
    "        if win_count%20 == 0 :\n",
    "            if current_window == 1 :\n",
    "                fig = figure(figsize=(10,1))    \n",
    "                \n",
    "            plot_img( to_mat(x), fig, current_window )\n",
    "            \n",
    "            if current_window == windows :\n",
    "                show()\n",
    "        \n",
    "        win_count += (t%windows == 0)\n",
    "    "
   ]
  }
 ],
 "metadata": {
  "css": [
   ""
  ],
  "kernelspec": {
   "display_name": "Python 2",
   "language": "python",
   "name": "python2"
  },
  "language_info": {
   "codemirror_mode": {
    "name": "ipython",
    "version": 2
   },
   "file_extension": ".py",
   "mimetype": "text/x-python",
   "name": "python",
   "nbconvert_exporter": "python",
   "pygments_lexer": "ipython2",
   "version": "2.7.9"
  },
  "latex_envs": {
   "bibliofile": "biblio.bib",
   "cite_by": "apalike",
   "current_citInitial": 1,
   "eqLabelWithNumbers": true,
   "eqNumInitial": 0
  }
 },
 "nbformat": 4,
 "nbformat_minor": 0
}
