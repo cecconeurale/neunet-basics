{
 "cells": [
  {
   "cell_type": "markdown",
   "metadata": {
    "code_folding": [],
    "run_control": {
     "marked": false
    }
   },
   "source": [
    "# The Hopfield network"
   ]
  },
  {
   "cell_type": "markdown",
   "metadata": {
    "run_control": {
     "marked": false
    }
   },
   "source": [
    "A Hopfield network is a form of recurrent artificial neural network popularized by John Hopfield in [1982](http://www.ncbi.nlm.nih.gov/pubmed/6953413).   It is an autoassociative network, which means that it can store a piece of data given as the activation of its own units and then retrieve it when you trigger a subpopulation of its units that is equal to a tiny sample of the same piece of data.\n",
    "Learning is done by changing the weights of the connections between its units in a  *fake* hebbian way. You treat each input pattern as if it were the vector of the activations of units and highten the weights of the connections between concurrently active units. "
   ]
  },
  {
   "cell_type": "markdown",
   "metadata": {
    "run_control": {
     "marked": false
    }
   },
   "source": [
    "figure 1: an abstract example showing the functioning of an autoassociative network. On the left the network weights after learning. On the center, we trigger only one unit. On the right, all the associated units become activated.\n",
    "\n",
    "![figure_1](hopfield.png)"
   ]
  },
  {
   "cell_type": "markdown",
   "metadata": {},
   "source": [
    "<div>Table of contents</div>\n",
    "<div id=\"toc\"></div>"
   ]
  },
  {
   "cell_type": "markdown",
   "metadata": {
    "run_control": {
     "marked": false
    }
   },
   "source": [
    "### Spreading of activations\n",
    "\n",
    "The activation of a unit in a Hopfield network is updated by evaluating the sign of the weighted sum of its inputs:\n",
    "\n",
    "![](sign_function.png)\n",
    "\n",
    "$$ \n",
    "x_i = \\begin{cases}\n",
    "  1  & \\quad \\text{if } \\sum_{j} w_{ij}x_j >  0\\\\\n",
    "  -1  & \\quad \\text{otherwise}\\\\\n",
    "  \\end{cases}\n",
    "$$ \n",
    "\n",
    "There are two ways to implement the update of the units: **synchronous** and **asynchronous** update.  \n",
    "\n",
    "#### Syncronous update\n",
    "\n",
    "The units are updated altogether at each step, using as inputs the *freezed* activations of themselves at the previous step. \n",
    "\n",
    "In python you can write:\n",
    "\n",
    "```python\n",
    "# n = len(x)\n",
    "for i in xrange(n): \n",
    "    w_sum = 0\n",
    "    for j in xrange(n):\n",
    "        w_sum += w[i,j]*x_previous[j]\n",
    "    x[i] = sgn(w_sum)\n",
    "...\n",
    "...\n",
    "x_previous = x\n",
    "```\n",
    "Using linear algebra we can rewrite it in a shorter form as:\n",
    "$$\n",
    "\\mathbf{x} = sgn(\\mathbf{W}\\mathbf{x})\n",
    "$$\n",
    "where $\\mathbf{x}$ is the vector of activations, $\\mathbf{W}$ is the matrix of inner weights and $\\mathbf{W}\\mathbf{x}$ is the [dot product](https://en.wikipedia.org/wiki/Dot_product#Algebraic_definition), a linear algebra operator that allows to calculate the  weighted sum at once. \n",
    "Linear algebra notation is a far better way to implement neural networks in a program than iterating units. In particular, writing formulas with linear algebra notation in python (through the numpy library) improves both speed and readability. In the case of units activations in python you can write:\n",
    "```python\n",
    "x = sgn(dot(w,x))\n",
    "```\n",
    "*Using linear algebra in a neural network implementation is far simpler than writing loops, it is less error prone and also produces a much efficient code in terms of speed!!*\n",
    "\n",
    "#### Asynchronous update\n",
    "\n",
    "At each step a unit is randomly chosen for the update, while the others remain immutated. In python you write:\n",
    "```python\n",
    "i = chosen_index\n",
    "w_sum = 0\n",
    "for j in xrange(n):\n",
    "    w_sum += w[i,j]*x[j]\n",
    "x[i] = sgn(w_sum)\n",
    "```\n",
    "Using linear algebra leads to a shorter form also in this case:\n",
    "\n",
    "```python\n",
    "i = chosen_index\n",
    "x[i] = sgn(w[i,:],x)\n",
    "```\n",
    "Note how we don't need to store previous values here. \n",
    "\n",
    "In the simulation described below we will use asynchronous update (in a way it seems more biologicaly plausible).\n",
    "\n",
    "### Learning\n",
    "\n",
    "The learning of the weights is done offline at the start of the simulation. To update the weights you just treat each pattern $\\mathbf{p}_k$ (with $k = 1,...,n_p$) as if it were the current vector of activations of the network units and increase those weights where the activity at the two endings are high ([hebbian learning](https://en.wikipedia.org/wiki/Hebbian_theory#Principles)). This is done in practice by multiplying the two activities at the endings of each weight. The total amount of update is then calculated by adding together all the increments due to the different patterns to be learned. Finally the result is divided times the number of patterns to learn so that the weights are normalized. Putting it all together you have:\n",
    "$$\n",
    "w_{i,j} = \\frac{1}{n_p} \\sum_k p^k_i p^k_j \n",
    "$$\n",
    "In python we can write:\n",
    "```python\n",
    "w = zeros([n,n])\n",
    "# P is an array of p vectors \n",
    "for p in P:    \n",
    "    # np = len(p)\n",
    "    for i in xrange(np):  \n",
    "        for j in xrange(np):\n",
    "            # autoconnections are \n",
    "            # forbidden in Hopfield nets\n",
    "            if i != j :     \n",
    "                w[i,j] += (1/float(np))*p[i]*p[j]\n",
    "```\n",
    "Where `P` is an array with `np` rows of `p` patterns.\n",
    "\n",
    "Once again linear algebra can help us and we can rewrite the learning rule as:\n",
    "$$\n",
    "    \\mathbf{W} = \\frac{1}{n_p}\\sum_k \\mathbf{p}_k \\mathbf{p}_k^T\n",
    "$$\n",
    "Where  $ \\mathbf{p}_k \\mathbf{p}_k^T$ is the [outer product](https://en.wikipedia.org/wiki/Outer_product#Definition_.28matrix_multiplication.29) of $\\mathbf{p}_k$ with itself. In python it becomes:\n",
    "```python\n",
    "# accumulate dot products\n",
    "for p in P:\n",
    "    w += (1/float(np))*outer(p,p)\n",
    "\n",
    "# cut autoconnections afterward\n",
    "w *= 1.0 - eye(n,n)     \n",
    "```\n",
    "In this case we have only one loop instead of three!! \n",
    "<p></p>\n",
    "\n",
    "\n",
    "\n",
    ">* A general rule: the **dot product** is for spreading the activity throughout a network, while the **outer product** is for weight update\n",
    "\n",
    "### Energy function\n",
    "In each state of the network we can calculate a value that is given by:\n",
    "$$\n",
    "E = -\\frac{1}{2}\\sum_{i,j}w_{i,j}x_{i}x_{j}\n",
    "$$\n",
    "or in linear algebra notation:\n",
    "$$\n",
    "E = -\\frac{1}{2} \\mathbf{x}^T\\mathbf{W}\\mathbf{x}\n",
    "$$\n",
    "Hopfield proved that this value can only decrease or stay the same. When $E$ ceases to change the network has reached one of its attractor states. if the learned patterns are sufficiently orthogonal with each other attractor states correspond to the recalled patterns.\n",
    "\n",
    "In python it is:\n",
    "```python\n",
    "E = -0.5*dot(x,dot(w,x))\n",
    "```"
   ]
  },
  {
   "cell_type": "markdown",
   "metadata": {
    "run_control": {
     "marked": false
    }
   },
   "source": [
    "### Storing and recalling MNIST digits"
   ]
  },
  {
   "cell_type": "code",
   "execution_count": 24,
   "metadata": {
    "collapsed": false,
    "run_control": {
     "marked": false
    }
   },
   "outputs": [],
   "source": [
    "%matplotlib inline\n",
    "from pylab import *"
   ]
  },
  {
   "cell_type": "markdown",
   "metadata": {
    "run_control": {
     "marked": false
    }
   },
   "source": [
    "Let us implement a simulation using images from [the MNIST dataset](http://nbviewer.ipython.org/github/francesco-mannella/neunet-basics/blob/master/course/mnist.ipynb) as patterns."
   ]
  },
  {
   "cell_type": "markdown",
   "metadata": {
    "run_control": {
     "marked": false
    }
   },
   "source": [
    "#### Initialize the dataset\n",
    "First we initialize the dataset:"
   ]
  },
  {
   "cell_type": "code",
   "execution_count": 25,
   "metadata": {
    "collapsed": false,
    "run_control": {
     "marked": false
    }
   },
   "outputs": [],
   "source": [
    "#### Download the dataset \n",
    "# Get the script from internet\n",
    "! wget https://raw.githubusercontent.com/sorki/python-mnist/master/get_data.sh > /dev/null 2>&1  \n",
    "\n",
    "# Run it to dovnload all files in a local dir named 'data'\n",
    "! bash get_data.sh >/dev/null 2>&1\n",
    "\n",
    "# We do not need the script anymore, remove it\n",
    "! rm get_data.sh* > /dev/null 2>&1\n",
    "\n",
    "# Initialize the dataset variables\n",
    "%run utils"
   ]
  },
  {
   "cell_type": "markdown",
   "metadata": {
    "run_control": {
     "marked": false
    }
   },
   "source": [
    "We now fill a array with all parameters. We only need few samples, we take them from the training set. \n",
    "We take samples 2 and 5, representing respectively a '4' and a '2'"
   ]
  },
  {
   "cell_type": "code",
   "execution_count": 26,
   "metadata": {
    "collapsed": false,
    "run_control": {
     "marked": false
    }
   },
   "outputs": [],
   "source": [
    "# Take two rows\n",
    "patterns = array(mndata.train_images)[[2,5],]\n",
    "\n",
    "# We need only the sign (transform to binary input)\n",
    "patterns = sign(patterns/255.0 - 0.5)\n",
    "\n",
    "# Set the number of patterns (two in out case)\n",
    "n_patterns = patterns.shape[0]"
   ]
  },
  {
   "cell_type": "markdown",
   "metadata": {
    "run_control": {
     "marked": false
    }
   },
   "source": [
    "Let us visualize our two patterns:"
   ]
  },
  {
   "cell_type": "code",
   "execution_count": 27,
   "metadata": {
    "collapsed": false,
    "run_control": {
     "marked": false
    }
   },
   "outputs": [
    {
     "data": {
      "image/png": "[encoded data removed]",
      "text/plain": [
       "<matplotlib.figure.Figure at 0x7f7e2eb122d0>"
      ]
     },
     "metadata": {},
     "output_type": "display_data"
    }
   ],
   "source": [
    "fig = figure(figsize = (8, 4))\n",
    "for i in xrange(n_patterns):\n",
    "    plot_img( to_mat(patterns[i]), \n",
    "             fig, i+1, windows = 2 )"
   ]
  },
  {
   "cell_type": "markdown",
   "metadata": {
    "run_control": {
     "marked": false
    }
   },
   "source": [
    "#### Weights update\n",
    "\n",
    "Learning of the weight happens offline at the beginning, in one shot:"
   ]
  },
  {
   "cell_type": "code",
   "execution_count": 28,
   "metadata": {
    "collapsed": false,
    "run_control": {
     "marked": false
    }
   },
   "outputs": [],
   "source": [
    "# Initialize weights to zero values\n",
    "W = zeros([n,n])\n",
    "\n",
    "# Accumulate outer products \n",
    "for pattern in patterns :\n",
    "    W += outer(pattern, pattern)\n",
    "\n",
    "# Divide times the number of patterns\n",
    "W /= float(n_patterns)\n",
    "\n",
    "# Exclude the autoconnections\n",
    "W *= 1.0 - eye(n, n)"
   ]
  },
  {
   "cell_type": "markdown",
   "metadata": {
    "run_control": {
     "marked": false
    }
   },
   "source": [
    "#### Iterating the timesteps\n",
    "\n",
    "Now we implement the core part, defining what happens in each timestep"
   ]
  },
  {
   "cell_type": "code",
   "execution_count": 29,
   "metadata": {
    "collapsed": false
   },
   "outputs": [],
   "source": [
    "# Number of timesteps\n",
    "stime = 1000\n",
    "\n",
    "# Number of samples to store as long \n",
    "# as spreading goes on\n",
    "samples = 100\n",
    "\n",
    "# Timestep interval between two samples\n",
    "sint = stime/samples\n",
    "\n",
    "# Init the stories of spreading as a zero array,\n",
    "# we will fill it in at each timestep and we will \n",
    "# plot it at the end\n",
    "store_images = zeros([n_patterns, n, samples])\n",
    "\n",
    "# Init the stories of energy as a zero array,\n",
    "# we will fill it in at each timestep and we will \n",
    "# plot it at the end\n",
    "E = zeros([n_patterns, stime])\n",
    "\n",
    "# We simulate two iterations, each one starting\n",
    "# with a coorupted version of one of our two patterns\n",
    "for target_index in xrange(n_patterns) :\n",
    "\n",
    "    # Copy the original pattern\n",
    "    target = patterns[target_index]\n",
    "    x = target.copy()\n",
    "    \n",
    "    # Then modify the second half of the image \n",
    "    # putting random binary values\n",
    "    x[(n/2):] = sign(randn(n/2))\n",
    "\n",
    "    \n",
    "    # During the iterations we need to peek \n",
    "    # one unit at random. Thus we must prepare\n",
    "    # a random sequence of indices:\n",
    "    #    we get the sequence of indices \n",
    "    #    of the network units\n",
    "    x_indices = arange(n)\n",
    "    \n",
    "    #    and we shuffle it\n",
    "    shuffle(x_indices)\n",
    "    \n",
    "    # the iterations\n",
    "    for t in xrange(stime) :\n",
    "        # Get the current index browsing \n",
    "        # the random sequence \n",
    "        current_x = x_indices[t%n]   \n",
    "        \n",
    "        # Activation of a unit\n",
    "        x[current_x] = sign(dot(W[current_x,:], x))\n",
    "        \n",
    "        # Energy of the current state of the network\n",
    "        E[target_index, t] = -0.5*dot(x, dot(W, x))\n",
    "        \n",
    "        # Store current activations\n",
    "        if stime%sint == 0 :\n",
    "            store_images[target_index,:,t/sint] = x"
   ]
  },
  {
   "cell_type": "markdown",
   "metadata": {},
   "source": [
    "#### Plotting\n",
    "We will create two animations showing the network moving from the initial corrupted patterns to the correct attractor states."
   ]
  },
  {
   "cell_type": "code",
   "execution_count": 30,
   "metadata": {
    "collapsed": false
   },
   "outputs": [],
   "source": [
    "# The matplotlib object to do animations\n",
    "from matplotlib import animation\n",
    "\n",
    "# This grid allows to layout subplots in a more\n",
    "# flexible way\n",
    "import matplotlib.gridspec as gridspec\n",
    "\n",
    "# Initialize the figure for the animation    \n",
    "# Initialize the figure for the animation    \n",
    "# target_index :  int     The index of the target \n",
    "#                         to plot\n",
    "# returns      :  tuple   The three plotting objects \n",
    "#                         to render    \n",
    "def init_fig(target_index) :    \n",
    "  \n",
    "    # This is the target digit\n",
    "    target = patterns[target_index]\n",
    "    \n",
    "    # Init the grid and the figure\n",
    "    gs = gridspec.GridSpec(8, 20)\n",
    "    fig = figure(figsize=(8, 3.5))        \n",
    "\n",
    "    #-------------------------------------------------\n",
    "    # Plot 1 - plot the target digit\n",
    "    \n",
    "    # Create subplot\n",
    "    ax1 = fig.add_subplot(gs[:4,:4])\n",
    "    \n",
    "    title(\"target\")\n",
    "    \n",
    "    # Create the imshow and save the handler\n",
    "    im_target = ax1.imshow(to_mat(target), \n",
    "                           interpolation = 'none', \n",
    "                           aspect = 'auto',\n",
    "                           cmap = cm.binary) \n",
    "    axis('off')\n",
    "\n",
    "    \n",
    "    #-------------------------------------------------\n",
    "    # Plot 2 - plot the current state of the network\n",
    "    \n",
    "    # Create subplot\n",
    "    ax2 = fig.add_subplot(gs[:4,6:10])\n",
    "  \n",
    "    title(\"recalling\")\n",
    "   \n",
    "    # Create the imshow and save the handler\n",
    "    im_x = ax2.imshow(to_mat(x), \n",
    "                      interpolation = 'none', \n",
    "                      aspect = 'auto',\n",
    "                      cmap = cm.binary) \n",
    "    axis('off')\n",
    "\n",
    "    #-------------------------------------------------\n",
    "    # Plot 3 - plot the current history of energy\n",
    "    \n",
    "    # Create subplot\n",
    "    ax3 = fig.add_subplot(gs[:4,12:])\n",
    " \n",
    "    title(\"Energy\")\n",
    "   \n",
    "    # Create the line plot and save the handler\n",
    "    im_E, = ax3.plot(E[target_index])\n",
    "    \n",
    "    # Only bottom-left axes - no tics\n",
    "    ax3.spines['top'].set_visible(False)\n",
    "    ax3.spines['right'].set_visible(False)\n",
    "    ax3.set_xticks([])\n",
    "    ax3.set_yticks([])\n",
    "    \n",
    "    # Return the handlers\n",
    "    return fig,im_target,im_x,im_E\n",
    "\n",
    "# Updates images at each frame of the animation\n",
    "# data    : list of tuples    Each row contains the\n",
    "#                             arguments of update for \n",
    "#                             a frame\n",
    "# returns : tuple             The handlers of the \n",
    "#                             images \n",
    "def update(data) :\n",
    "\n",
    "    # unpack data\n",
    "    image, E = data\n",
    "    \n",
    "    # Update data of plot 2 and 3\n",
    "    # (plot 1 is static)\n",
    "    im_x.set_array(to_mat(image))\n",
    "    im_E.set_data(arange(len(E)),E)\n",
    "    \n",
    "    # Return the handlers\n",
    "    return im_target,im_x,im_E"
   ]
  },
  {
   "cell_type": "code",
   "execution_count": 31,
   "metadata": {
    "code_folding": [],
    "collapsed": false,
    "run_control": {
     "marked": false
    }
   },
   "outputs": [
    {
     "name": "stdout",
     "output_type": "stream",
     "text": [
      "mnist-hopfield_4.gif\n"
     ]
    },
    {
     "data": {
      "text/html": [
       "<img src = \"mnist-hopfield_4.gif\">"
      ],
      "text/plain": [
       "<IPython.core.display.HTML object>"
      ]
     },
     "execution_count": 31,
     "metadata": {},
     "output_type": "execute_result"
    }
   ],
   "source": [
    "# Our function to render videos inline \n",
    "# (see anim_to_html.py)\n",
    "import anim_to_html as AH\n",
    "\n",
    "# The first pattern\n",
    "target_index = 0\n",
    "# Initialize the figure\n",
    "fig, im_target, im_x, im_E = init_fig(target_index)\n",
    "\n",
    "# Build the sequence of update arguments for pattern 0.\n",
    "# each row of the list contains the activation vector at a \n",
    "# timestep and  a vector istoring the energy story up to \n",
    "# that timestep. \n",
    "data = [ (squeeze(store_images[target_index,:,t]), \n",
    "          squeeze(E[target_index, :t*sint])) \n",
    "    for t in xrange(samples ) ]\n",
    "\n",
    "# Create and render the animation\n",
    "anim = animation.FuncAnimation(fig, update, data)\n",
    "AH.display_animation(anim, filename=\"mnist-hopfield_4.gif\")"
   ]
  },
  {
   "cell_type": "code",
   "execution_count": 32,
   "metadata": {
    "code_folding": [],
    "collapsed": false,
    "run_control": {
     "marked": false
    }
   },
   "outputs": [
    {
     "name": "stdout",
     "output_type": "stream",
     "text": [
      "mnist-hopfield_2.gif\n"
     ]
    },
    {
     "data": {
      "text/html": [
       "<img src = \"mnist-hopfield_2.gif\">"
      ],
      "text/plain": [
       "<IPython.core.display.HTML object>"
      ]
     },
     "execution_count": 32,
     "metadata": {},
     "output_type": "execute_result"
    }
   ],
   "source": [
    "# The second pattern\n",
    "target_index = 1\n",
    "# Initialize the figure\n",
    "fig, im_target, im_x, im_E = init_fig(target_index)\n",
    "\n",
    "# Build the sequence of update arguments for pattern 1.\n",
    "# each row of the list contains the activation vector at a \n",
    "# timestep and  a vector storing the energy story up to \n",
    "# that timestep. \n",
    "data = [ (squeeze(store_images[target_index,:,t]), \n",
    "          squeeze(E[target_index, :t*sint])) \n",
    "    for t in xrange(samples ) ]\n",
    "\n",
    "# Create and render the animation\n",
    "anim = animation.FuncAnimation(fig, update, data)\n",
    "AH.display_animation(anim, filename=\"mnist-hopfield_2.gif\")"
   ]
  },
  {
   "cell_type": "markdown",
   "metadata": {
    "run_control": {
     "marked": false
    }
   },
   "source": [
    "<br><br><br><br><br><br><br><br><br><br><br><br><br><br>\n",
    "<br><br><br><br><br><br><br><br><br><br><br><br><br><br>\n",
    "<br><br><br><br><br><br><br><br><br><br><br><br><br><br>\n",
    "Next cell is just for styling"
   ]
  },
  {
   "cell_type": "code",
   "execution_count": 33,
   "metadata": {
    "code_folding": [],
    "collapsed": false,
    "run_control": {
     "marked": true
    }
   },
   "outputs": [
    {
     "data": {
      "text/html": [
       "<style>\n",
       "\n",
       "/* PRINT */\n",
       "\n",
       "#toc ol {\n",
       "    font-size: 20px; \n",
       "    line-height: 120%; \n",
       "    padding: 0; \n",
       "    margin-left: 20px; \n",
       "    list-style-type: decimal;\n",
       "}\n",
       "\n",
       "/* PRINT */\n",
       "div.text_cell_render table, \n",
       "div.text_cell_render  th,\n",
       "div.text_cell_render  tr,\n",
       "div.text_cell_render td {\n",
       "    border: 0px solid black;\n",
       "}\n",
       "div.MathJax_Display {padding: 40px 5px 40px 5px}\n",
       "\n",
       "div.input_area  { padding: 10px;  }\n",
       "\n",
       "div.input_area  { \n",
       "    min-width: 20em !important; \n",
       "    overflow-x: hide\n",
       "} \n",
       "div.input_area pre {  \n",
       "    min-width: 20em !important; \n",
       "}\n",
       "\n",
       "\n",
       "div.input_area  { padding: 10px;  }\n",
       ".rendered_html p{ text-align: left }\n",
       "div.input_area>div.highlight  { padding:10px; }\n",
       "\n",
       "/* FONT_CODE */\n",
       ".input_area pre { font-size:10px; line-height:120% }\n",
       "\n",
       "/* FONT_TEXT */\n",
       "div.text_cell_render { font-size:20px;  line-height:120% }\n",
       "\n",
       "/* FONT_QUOTE */\n",
       ".text_cell_render pre { font-size:14px; line-height:120% }\n",
       "\n",
       "/* BACKGROUND */\n",
       "div .input_area { background-color:#333333;}\n",
       "blockquote { background-color:#ffff66; }\n",
       "\n",
       "/* BUILTIN */\n",
       ".input_area .highlight .bp { color: #CD5C5C } /* Name.Builtin.Pseudo */\n",
       "\n",
       "/* KEYWORD */\n",
       ".input_area .highlight .k { color: #F0E68C; font-weight: bold } /* Keyword */\n",
       ".input_area .highlight .kc { color: #F0E68C; font-weight: bold } /* Keyword.Constant */\n",
       ".input_area .highlight .kd { color: #F0E68C; font-weight: bold } /* Keyword.Declaration */\n",
       ".input_area .highlight .kn { color: #F0E68C; font-weight: bold } /* Keyword.Namespace */\n",
       ".input_area .highlight .kp { color: #F0E68C; font-weight: bold } /* Keyword.Pseudo */\n",
       ".input_area .highlight .kr { color: #F0E68C; font-weight: bold } /* Keyword.Reserved */\n",
       ".input_area .highlight .kt { color: #F0E68C; font-weight: bold } /* Keyword.Type */\n",
       ".input_area .highlight .ow { color: #F0E68C; font-weight: bold } /* Operator.Word */\n",
       "\n",
       "/* VARIABLE */\n",
       ".input_area .highlight pre { color: #FFFFFF }\n",
       ".input_area .highlight .n { color: #FFFFFF } /* Name.Variable */\n",
       ".input_area .highlight .nv { color: #FFFFFF } /* Name.Variable */\n",
       ".input_area .highlight .na { color: #FFFFFF } /* Name.Attribute */\n",
       ".input_area .highlight .no { color: #FFFFFF } /* Name.Constant */\n",
       ".input_area .highlight .nl { color: #FFFFFF } /* Name.Label */\n",
       "\n",
       "/* FUNCTION */\n",
       ".input_area .highlight .nb { color: #BDB76B } /* Name.Builtin */\n",
       ".input_area .highlight .nf { color: #BDB76B } /* Name.Function */\n",
       ".input_area .highlight .vc { color: #BDB76B } /* Name.Variable.Class */\n",
       ".input_area .highlight .vg { color: #BDB76B } /* Name.Variable.Global */\n",
       ".input_area .highlight .vi { color: #BDB76B } /* Name.Variable.Instance */\n",
       ".input_area .highlight .nc { color: #BDB76B } /* Name.Class */\n",
       ".input_area .highlight .ni { color: #BDB76B } /* Name.Entity */\n",
       ".input_area .highlight .ne { color: #BDB76B } /* Name.Exception */\n",
       ".input_area .highlight .nn { color: #BDB76B } /* Name.Namespace */\n",
       ".input_area .highlight .nt { color: #BDB76B } /* Name.Tag */\n",
       "\n",
       "\n",
       "\n",
       "/* OPERATOR */\n",
       ".input_area .highlight .o { color: #FFFFFF; font-weight:bold } /* Operator */\n",
       ".input_area .highlight .p { color: #FFFFFF; font-weight:bold } /* Operator */\n",
       "\n",
       "\n",
       "/* DECORATOR */\n",
       ".input_area .highlight .nd { color: #BDB76B } /* Name.Decorator */\n",
       "\n",
       "\n",
       "/* COMMENT */\n",
       ".input_area .highlight .c { color: #87CEEB; font-style: italic } /* Comment */\n",
       ".input_area .highlight .cm { color: #87CEEB; font-style: italic } /* Comment.Multiline */\n",
       ".input_area .highlight .cp { color: #87CEEB; } /* Comment.Preproc */\n",
       ".input_area .highlight .c1 { color: #87CEEB; font-style: italic } /* Comment.Single */\n",
       ".input_area .highlight .cs { color: #87CEEB; font-style: italic } /* Comment.Special */\n",
       "\n",
       "\n",
       "/* NUMBER */\n",
       ".input_area .highlight .mb { color: #98FB98 } /* Literal.Number.Bin */\n",
       ".input_area .highlight .mf { color: #98FB98 } /* Literal.Number.Float */\n",
       ".input_area .highlight .mh { color: #98FB98 } /* Literal.Number.Hex */\n",
       ".input_area .highlight .mi { color: #98FB98 } /* Literal.Number.Integer */\n",
       ".input_area .highlight .mo { color: #98FB98 } /* Literal.Number.Oct */\n",
       ".input_area .highlight .m { color: #98FB98 } /* Literal.Number */\n",
       ".input_area .highlight .il { color: #98FB98 } /* Literal.Number.Integer.Long */\n",
       "\n",
       "/* STRING */\n",
       ".input_area .highlight .s { color: #FFA0A0 } /* Literal.String */\n",
       ".input_area .highlight .w { color: #FFA0A0 } /* Text.Whitespace */\n",
       ".input_area .highlight .sb { color: #FFA0A0 } /* Literal.String.Backtick */\n",
       ".input_area .highlight .sc { color: #FFA0A0 } /* Literal.String.Char */\n",
       ".input_area .highlight .sd { color: #FFA0A0; font-style: italic } /* Literal.String.Doc */\n",
       ".input_area .highlight .s2 { color: #FFA0A0 } /* Literal.String.Double */\n",
       ".input_area .highlight .se { color: #FFA0A0; font-weight: bold } /* Literal.String.Escape */\n",
       ".input_area .highlight .sh { color: #FFA0A0 } /* Literal.String.Heredoc */\n",
       ".input_area .highlight .si { color: #FFA0A0; font-weight: bold } /* Literal.String.Interpol */\n",
       ".input_area .highlight .sx { color: #FFA0A0 } /* Literal.String.Other */\n",
       ".input_area .highlight .sr { color: #FFA0A0 } /* Literal.String.Regex */\n",
       ".input_area .highlight .s1 { color: #FFA0A0 } /* Literal.String.Single */\n",
       ".input_area .highlight .ss { color: #FFA0A0 } /* Literal.String.Symbol */\n",
       "\n",
       "\n",
       "\n",
       "/********************************************************************************/\n",
       "/********************************************************************************/\n",
       "\n",
       "/* JUPYTER */\n",
       "\n",
       "/* FONT_EDIT */\n",
       ".cm-s-default span { font-size:16px; line-height:120% }\n",
       "\n",
       "/* BACKGROUND_EDIT */\n",
       "div .cm-s-default { background-color: #888888;}\n",
       "\n",
       "/* CURSOR */\n",
       ".input_area .CodeMirror div.CodeMirror-cursor { border-left: 5px solid #FFFFFF; }\n",
       ".input_area .CodeMirror div.CodeMirror-secondarycursor { border-left: 5px solid #FFFFFF;}\n",
       ".input_area .CodeMirror.cm-fat-cursor div.CodeMirror-cursor { background: #FFFFFF;}\n",
       ".input_area .cm-animate-fat-cursor { background-color: #FFFFFF; }\n",
       "\n",
       "/* BUILTIN */\n",
       ".input_area .cm-s-ipython span.cm-builtin { color: #CD5C5C } \n",
       ".input_area .cm-s-ipython span.cm-variable-2 { color: #CD5C5C } \n",
       ".input_area .cm-s-ipython span.cm-variable-3 { color: #CD5C5C } \n",
       "\n",
       "/* KEYWORD */\n",
       ".input_area .cm-s-ipython span.cm-keyword { color: #F0E68C; font-weight:700 } \n",
       "\n",
       "/* VARIABLE */\n",
       ".input_area span.cm-variable { color: #FFFFFF } \n",
       ".input_area span.cm-def { color: #FFFFFF } \n",
       "\n",
       "\n",
       "/* OPERATOR */\n",
       ".input_area .cm-s-ipython span.cm-operator { color: #FFFFFF; font-weight:700 } \n",
       ".input_area .cm-s-ipython span { color: #FFFFFF; font-weight:700 } \n",
       "\n",
       "/* DECORATOR */\n",
       ".input_area .cm-s-ipython span.cm-meta { color: #BDB76B } \n",
       "\n",
       "/* COMMENT */\n",
       ".input_area .cm-s-ipython span.cm-comment { color:#87CEEB; font-style:italic } \n",
       "\n",
       "/* NUMBER */\n",
       ".input_area .cm-s-ipython span.cm-number { color: #98FB98 } \n",
       "\n",
       "/* STRING */\n",
       ".input_area .cm-s-ipython span.cm-string { color: #FFA0A0 } \n",
       ".input_area .cm-s-ipython span.cm-string-2 { color: #FFA0A0 } \n",
       "\n",
       "</style><script> \n",
       "// Converts integer to roman numeral\n",
       "function romanize(num) {\n",
       "    var lookup = {M:1000,CM:900,D:500,CD:400,C:100,XC:90,L:50,XL:40,X:10,IX:9,V:5,IV:4,I:1},\n",
       "    roman = '',\n",
       "    i;\n",
       "    for ( i in lookup ) {\n",
       "        while ( num >= lookup[i] ) {\n",
       "            roman += i;\n",
       "            num -= lookup[i];\n",
       "        }\n",
       "    }\n",
       "    return roman;\n",
       "}\n",
       "\n",
       "// Builds a <ul> Table of Contents from all <headers> in DOM\n",
       "function createTOC(){\n",
       "    var toc = \"\";\n",
       "    var level = 0;\n",
       "    var levels = {}\n",
       "    $('#toc').html('');\n",
       "\n",
       "    $(\":header\").each(function(i){\n",
       "        if (this.id=='tocheading'){return;}\n",
       "\n",
       "        titleText = this.innerHTML;\n",
       "        openLevel = this.tagName[1];\n",
       "        if(openLevel>1) {\n",
       "            openLevel-=1\n",
       "\n",
       "        if (levels[openLevel]){\n",
       "            levels[openLevel] += 1;\n",
       "        } else{\n",
       "            levels[openLevel] = 1;\n",
       "        }\n",
       "\n",
       "        if (openLevel > level) {\n",
       "            toc += (new Array(openLevel - level + 1)).join('<ol type=\"1\" class=\"toc\">');\n",
       "        } else if (openLevel < level) {\n",
       "            toc += (new Array(level - openLevel + 1)).join(\"</ol>\");\n",
       "            for (i=level;i>openLevel;i--){levels[i]=0;}\n",
       "        }\n",
       "\n",
       "        level = parseInt(openLevel);\n",
       "\n",
       "\n",
       "        if (this.id==''){this.id = this.innerHTML.replace(/ /g,\"-\")}\n",
       "        var anchor = this.id;\n",
       "\n",
       "        toc += '<li><a href=\"#' + anchor + '\">' + titleText\n",
       "        + '</a></li>';\n",
       "    }\n",
       "\n",
       "    });\n",
       "\n",
       "\n",
       "    if (level) {\n",
       "        toc += (new Array(level + 1)).join(\"</ol>\");\n",
       "    }\n",
       "\n",
       "\n",
       "    $('#toc').append(toc);\n",
       "\n",
       "};\n",
       "\n",
       "// Executes the createToc function\n",
       "setTimeout(function(){createTOC();},100);\n",
       "\n",
       "// Rebuild to TOC every minute\n",
       "setInterval(function(){createTOC();},60000);\n",
       "</script>\n",
       "\n"
      ],
      "text/plain": [
       "<IPython.core.display.HTML object>"
      ]
     },
     "execution_count": 33,
     "metadata": {},
     "output_type": "execute_result"
    }
   ],
   "source": [
    "from IPython.core.display import HTML\n",
    "def css_styling():\n",
    "    styles = open(\"../style/ipybn.css\", \"r\").read()\n",
    "    return HTML(styles)\n",
    "css_styling()"
   ]
  }
 ],
 "metadata": {
  "css": [
   ""
  ],
  "kernelspec": {
   "display_name": "Python 2",
   "language": "python",
   "name": "python2"
  },
  "language_info": {
   "codemirror_mode": {
    "name": "ipython",
    "version": 2
   },
   "file_extension": ".py",
   "mimetype": "text/x-python",
   "name": "python",
   "nbconvert_exporter": "python",
   "pygments_lexer": "ipython2",
   "version": "2.7.9"
  },
  "latex_envs": {
   "bibliofile": "biblio.bib",
   "cite_by": "apalike",
   "current_citInitial": 1,
   "eqLabelWithNumbers": true,
   "eqNumInitial": 0
  }
 },
 "nbformat": 4,
 "nbformat_minor": 0
}
