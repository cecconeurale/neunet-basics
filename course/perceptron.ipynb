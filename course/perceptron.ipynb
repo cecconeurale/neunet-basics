{
 "cells": [
  {
   "cell_type": "markdown",
   "metadata": {},
   "source": [
    "# The perceptron\n",
    "\n",
    "Perceptrons, invented in the [1957]( https://en.wikipedia.org/wiki/Perceptron#History) by Frank Rosenblatt, are the simpliest form of feedforward networks. They are [linear classifiers](https://en.wikipedia.org/wiki/Linear_classifier) because they find a linear function to predict if a piece of data belongs to a determined class or not. A perceptron is basically formed by a layer of input units and a layer of output units. In the simpliest case the output layer is formed by just one unit:\n",
    "\n",
    "![](perceptron.png)"
   ]
  },
  {
   "cell_type": "markdown",
   "metadata": {},
   "source": [
    "<div>Table of contents</div>\n",
    "<div id=\"toc\"></div>"
   ]
  },
  {
   "cell_type": "markdown",
   "metadata": {},
   "source": [
    "### Definitions\n",
    "The first layer of units is $\\mathbf{x} = (x_0,\\dots,x_{n+1})$. At each timestep all units of this layer except the first unit $x_0$ are filled up with values from an input vector $\\mathbf{p}_k = (p_0,\\dots,p_n)$. We call the first unit the bias unit.\n",
    "\n",
    "\n",
    "Each connection from a unit $x_i$ of the first layer to the output unit $y$ has a weight $w_i$ that is initially set to 0.\n",
    "\n",
    "### Spreading  of activations\n",
    "The activation of the output unit is given by the weighted sum of the input units:\n",
    "$$\n",
    "y = \\sum_{i} w_i x_i \n",
    "$$\n",
    "Using linear algebra we can rewrite it in a shorter form as:\n",
    "$$\n",
    "y = \\mathbf{w}^T\\mathbf{x}\n",
    "$$\n",
    "where $\\mathbf{w}^T$ is the vector  $\\mathbf{w} = (w_0, \\dots, w_{n+1})$ translated into a row vector and $\\mathbf{w}^T\\mathbf{x}$ is the [dot product](https://en.wikipedia.org/wiki/Dot_product#Algebraic_definition), a linear algebra operator that allows to calculate the  weighted sum at once.\n",
    "\n",
    ">Given two vectors of the same size $\\mathbf{a} \\in \\mathbb{R}^n$ and $\\mathbf{b} \\in \\mathbb{R}^n$, the dot product $\\mathbf{a}^T\\mathbf{b}$ produces a *scalar value*.\n",
    "\n",
    "In python you write:\n",
    "```python\n",
    "#The first unit is a bias unit\n",
    "x[0] = 1\n",
    "\n",
    "# Fill the rest of the x layer \n",
    "# with p values\n",
    "for i in xrange(1,n) :\n",
    "    x[i] = p[i]\n",
    "\n",
    "# Clear y\n",
    "y = 0\n",
    "# Fill up with the weighted \n",
    "# sum of inputs \n",
    "for i in xrange(n) :\n",
    "    y += w[i]*x[i]\n",
    "```\n",
    "\n",
    "Using pylab, which has linear algebra functionalities, it becomes:\n",
    "```python\n",
    "# Fill the x layer with p values\n",
    "# with the exception of the first unit\n",
    "x = hstack([1, p])\n",
    "\n",
    "# Evalutate the weighted sum - dot product\n",
    "y = dot(w,x)\n",
    "```\n",
    "*Using linear algebra in a neural network implementation is far simpler than writing loops, it is less error prone and also produces a much efficient code in terms of speed!!*\n",
    "\n",
    "If the network is composed of more than one output units, the activation of units can be expressed as:\n",
    "$$\n",
    "y_j = \\sum_{ij} w_{ij} x_i\n",
    "$$\n",
    "and it can be written in linear algebra notation as:\n",
    "$$\n",
    "\\mathbf{y} = \\mathbf{W}\\mathbf{x}\n",
    "$$\n",
    "where $ \\mathbf{y} = (y_0, \\dots, y_m)$, $\\mathbf{W} \\in \\mathbb{R}^{m\\times n}$  is the matrix of weights from $ \\mathbf{x}$ to $ \\mathbf{y}$, and $\\mathbf{W}\\mathbf{x}$ is a multiplication of a matrix  times a vector, that is the [matrix product](https://en.wikipedia.org/wiki/Matrix_multiplication#Matrix_product_.28two_matrices.29) of which the dot product is a [special case](https://en.wikipedia.org/wiki/Matrix_multiplication#Row_vector_and_column_vector).\n",
    "\n",
    ">Given two matrices $\\mathbf{A} \\in \\mathbb{R}^{m\\times k}$ and $\\mathbf{B} \\in \\mathbb{R}^{k\\times n}$, the matrix product $\\mathbf{A}\\mathbf{B}$ produces a new matrix $\\mathbf{P} \\in \\mathbb{R}^{m\\times n}$.\n",
    "\n",
    "\n",
    "In python nothing changes!:\n",
    "\n",
    "```python\n",
    "y = dot(w,x)\n",
    "\n",
    "```\n",
    "where `w` is now a matrix, and `y` is a vector.\n"
   ]
  },
  {
   "cell_type": "markdown",
   "metadata": {},
   "source": [
    "### Learning\n",
    "Learning consists in updating the weights so that the weighted sum $y$ is more and more similar to a desired output $o_k$ when we give the input $p_k$ to the network.\n",
    "In perceptrons learning can be done online, meaning that we can update the weights each time a single input pattern is presented.\n",
    "Learning is given at each timestep by:\n",
    "$$\n",
    "\\Delta w_i = \\eta (o_k - y)x_i\n",
    "$$\n",
    "or, in linear algebra notation:\n",
    "$$\n",
    "\\Delta \\mathbf{w} = \\eta(o_k - y)\\mathbf{x} \n",
    "$$\n",
    "where $\\eta$ is a value determining the rate of weight change per timestep (it is typically very little) and $o_k - y$ is the error in reproducing the desired value.\n",
    "In python we write:\n",
    "```python\n",
    "w += eta*(o - y)*tx\n",
    "```\n",
    "In the case of many output units the learning rule becomes:\n",
    "$$\n",
    "\\Delta w_{ij} = \\eta (o_{kj} - y_j)x_i\n",
    "$$\n",
    "which in linear algebra notation is:\n",
    "\n",
    "$$\n",
    "\\Delta \\mathbf{W} = \\eta (\\mathbf{o}_k - \\mathbf{y})\\mathbf{x}^T\n",
    "$$\n",
    "where $\\mathbf{o}_k - \\mathbf{y}$ is now a vector, $\\mathbf{x}^T$ is the vector $\\mathbf{x}$ *transposed into a row vector*, and $(\\mathbf{o}_k - \\mathbf{y})\\mathbf{x}^T$ is a new form of vector product: the [outer product](https://en.wikipedia.org/wiki/Outer_product#Vector_multiplication).\n",
    "\n",
    ">Given two vectors $\\mathbf{a} \\in \\mathbb{R}^n$ and $\\mathbf{b} \\in \\mathbb{R}^m$, the outer product $\\mathbf{a}\\mathbf{b}^T$ produces a matrix $\\mathbf{M} \\in \\mathbb{R}^{m\\times n}$.\n",
    "\n",
    "In python we can rewrite it as:\n",
    "```python\n",
    "W += eta*outer((o - y), tx)\n",
    "```"
   ]
  },
  {
   "cell_type": "markdown",
   "metadata": {},
   "source": [
    ">* A general rule: the **dot product** is for spreading the activity throughout a network, while the **outer product** is for weight update"
   ]
  },
  {
   "cell_type": "markdown",
   "metadata": {},
   "source": [
    "### The decision boundary\n",
    "The weights of the network can be viewed as the parameters of a linear equation. This equation defines a boundary in the space of all possible inputs. All points laying above the boundary belong to the class, all the others don't belong to it.\n",
    "If the network has two inputs plus the bias the input space is a plane and the boundary is a row. In this case it is: \n",
    "\n",
    "$$x_2 = -\\frac{x_1 w_1 + w_0}{w_2}$$\n",
    "![](linear.png)\n",
    "\n",
    "\n"
   ]
  },
  {
   "cell_type": "markdown",
   "metadata": {},
   "source": [
    "### The error\n",
    "\n",
    "We can analyze if how much the network has learned by measuring the error. We compute the error at each timestep as the sum of the squares of the errors for each output unit:\n",
    "$$\n",
    "E_t = \\sum_i \\frac{1}{2}(o_i - y_i)^2\n",
    "$$\n",
    "\n",
    "If the network is learning the error diminuishes and it converges to a minimum. After a while the error cannot diminuish anymore and the network reaches a steady state. "
   ]
  },
  {
   "cell_type": "markdown",
   "metadata": {},
   "source": [
    "### A simple simulation"
   ]
  },
  {
   "cell_type": "code",
   "execution_count": 3,
   "metadata": {
    "collapsed": true,
    "run_control": {
     "marked": false
    }
   },
   "outputs": [],
   "source": [
    "%matplotlib inline\n",
    "from pylab import *"
   ]
  },
  {
   "cell_type": "markdown",
   "metadata": {},
   "source": [
    "Let us start by implementing a very simple network. Our network will only have two input units plus a bias unit, as in the figure. \n",
    "The network will learn to categorize few different input patterns as belonging or not to a class.\n",
    "\n"
   ]
  },
  {
   "cell_type": "markdown",
   "metadata": {},
   "source": [
    "#### Initializing data and parameters\n",
    "We create input data with pseudo-random number generation.\n",
    "We will start from two points, the centroids, and create all patterns in each group (belonging/not belonging) adding noise to each centroid."
   ]
  },
  {
   "cell_type": "code",
   "execution_count": 4,
   "metadata": {
    "collapsed": false,
    "run_control": {
     "marked": false
    }
   },
   "outputs": [],
   "source": [
    "# number of training patterns\n",
    "np = 400\n",
    "\n",
    "# Create an array with 2-dimensional patterns \n",
    "# belonging to two categories\n",
    "#\n",
    "# np:        int                 Number of patterns\n",
    "# sd:        float               Standard deviation of noise\n",
    "# centroid1: 2-elements_vector   The point from which the first \n",
    "#                                class is generated\n",
    "# centroid2: 2-elements_vector   The point from which the second \n",
    "#                                class is generated\n",
    "# returns:   array               Each row contains a pattern in\n",
    "#                                the first two elements and\n",
    "#                                the class to which it belongs in\n",
    "#                                the third element\n",
    "def build_dataset( np = 100, \n",
    "                   sd = 0.2,\n",
    "                   centroid1 = array([-1.2, 1.8]), \n",
    "                   centroid2 = array([-0.2, 0.4]) ) :\n",
    "    \n",
    "    # Decide to which group patterns will belong.\n",
    "    # First half belongs to the first class\n",
    "    categories = 2*(arange(np)/(np/2)) - 1  \n",
    "    \n",
    "    # Each row of this array will contain a 2-element-wide \n",
    "    # input pattern plus an integer defining to which category\n",
    "    # the pattern belongs   \n",
    "    data = zeros([np,3])\n",
    "\n",
    "    # Iterate the patterns to generate\n",
    "    for t in xrange(np) :\n",
    "        \n",
    "        pattern = zeros(2)\n",
    "        \n",
    "        if categories[t] > 0 : \n",
    "            pattern = centroid1.copy()\n",
    "        else :\n",
    "            pattern = centroid2.copy()\n",
    "        \n",
    "        # Add noise to each element of the centroid\n",
    "        pattern += sd*randn(2)\n",
    "\n",
    "        # Fill up data \n",
    "        data[t,:] = hstack([pattern, categories[t]])\n",
    "    \n",
    "    return data\n",
    "\n",
    "# Training data \n",
    "data = build_dataset(np)\n",
    "\n",
    "# Each row of P is an input pattern\n",
    "P = data[:,:2]\n",
    "\n",
    "# limits\n",
    "upper_bound = P.max(0) + 0.2*(P.max(0)-P.min(0))\n",
    "lower_bound = P.min(0) - 0.2*(P.max(0)-P.min(0))\n",
    "\n",
    "\n",
    "# Each element of o is the desired output \n",
    "# relative to an input pattern\n",
    "o = data[:,2]"
   ]
  },
  {
   "cell_type": "markdown",
   "metadata": {},
   "source": [
    "Let's plot the input points, colors are the categories to which they belong, centroids are the bigger circles:"
   ]
  },
  {
   "cell_type": "code",
   "execution_count": 5,
   "metadata": {
    "collapsed": false,
    "run_control": {
     "marked": false
    },
    "scrolled": false
   },
   "outputs": [
    {
     "data": {
      "image/png": "[encoded data removed]",
      "text/plain": [
       "<matplotlib.figure.Figure at 0x7f6a5283ef10>"
      ]
     },
     "metadata": {},
     "output_type": "display_data"
    }
   ],
   "source": [
    "# Create the figure\n",
    "fig = figure(figsize=(4,4))\n",
    "\n",
    "scatter(*P[(np/2):,:].T, s = 50,  c = '#ff8888' )\n",
    "scatter(*P[:(np/2),:].T, s = 50,  c = '#8888ff' )\n",
    "\n",
    "scatter(-1.2, 1.8, s = 200, c = '#ff8888' )\n",
    "scatter(-0.2, 0.4, s = 200, c = '#8888ff' )\n",
    "\n",
    "xlim( [lower_bound[0], upper_bound[0]] )\n",
    "ylim( [lower_bound[1], upper_bound[1]] )\n",
    "\n",
    "show()"
   ]
  },
  {
   "cell_type": "markdown",
   "metadata": {},
   "source": [
    "Now some other initializations:"
   ]
  },
  {
   "cell_type": "code",
   "execution_count": 6,
   "metadata": {
    "collapsed": true,
    "run_control": {
     "marked": false
    }
   },
   "outputs": [],
   "source": [
    "# Constants\n",
    "\n",
    "# Number of input elements\n",
    "n = 2        \n",
    "\n",
    "# Learning rate\n",
    "eta = 0.01    \n",
    "\n",
    "# Number of timesteps\n",
    "stime = 2000  \n",
    "\n",
    "\n",
    "# Variables\n",
    "\n",
    "# Initialize weights\n",
    "w = zeros(n+1)\n",
    "\n",
    "# Initialize the weight history storage\n",
    "dw = zeros([n+1,stime])\n",
    "\n",
    "# Initialize the error history storage\n",
    "E = zeros(stime)"
   ]
  },
  {
   "cell_type": "markdown",
   "metadata": {},
   "source": [
    "#### Spreading of the network during training\n",
    "Here starts the core part, iterating the timesteps:"
   ]
  },
  {
   "cell_type": "code",
   "execution_count": 7,
   "metadata": {
    "collapsed": false,
    "run_control": {
     "marked": false
    },
    "scrolled": true
   },
   "outputs": [],
   "source": [
    "# Create a list of pattern indices.\n",
    "# We will reshuffle it at each \n",
    "# repetition of the series\n",
    "pattern_indices = arange(np)\n",
    "\n",
    "for t in xrange(stime) :\n",
    "    \n",
    "    \n",
    "    # Reiterate the input pattern \n",
    "    # sequence through timesteps\n",
    "    \n",
    "    # Reshuffle at the end \n",
    "    # of the series\n",
    "    if t%np == 0:\n",
    "      shuffle(pattern_indices)\n",
    "    \n",
    "    # Current pattern \n",
    "    k = pattern_indices[t%np]\n",
    "    \n",
    "  \n",
    "\n",
    "    # MAIN STEP CALCULATIONS\n",
    "    \n",
    "    # Bias-plus-input vector\n",
    "    tx = hstack([1, P[k]])\n",
    "    \n",
    "    # Weighted sum - !!dot product!!\n",
    "    y = dot(w, tx)\n",
    "    \n",
    "    # Learning\n",
    "    w += eta*(o[k] - y)*tx\n",
    "       \n",
    "    # Store current weights\n",
    "    dw[:,t] = w\n",
    "    \n",
    "    # Current error\n",
    "    E[t] = 0.5*(o[k] - y)**2\n",
    "      "
   ]
  },
  {
   "cell_type": "markdown",
   "metadata": {},
   "source": [
    "#### Plotting the training history\n",
    "We can plot the history of the modifications of the decision boundary and the error curve:"
   ]
  },
  {
   "cell_type": "code",
   "execution_count": 8,
   "metadata": {
    "collapsed": false,
    "run_control": {
     "marked": false
    },
    "scrolled": true
   },
   "outputs": [
    {
     "data": {
      "image/png": "[encoded data removed]",
      "text/plain": [
       "<matplotlib.figure.Figure at 0x7f6a50795b50>"
      ]
     },
     "metadata": {},
     "output_type": "display_data"
    }
   ],
   "source": [
    "# Create the figure\n",
    "fig = figure(figsize=(10,4))\n",
    "\n",
    "# First plot - scatter + decision boundary\n",
    "subplot(121)\n",
    "\n",
    "title('Decision boundary')\n",
    "\n",
    "# Chose the x-axis coords of the\n",
    "# two points to plot the decision \n",
    "# boundary line\n",
    "x1 = array([lower_bound[0],upper_bound[0]])\n",
    "\n",
    "# Calculate the y-axis coords of the\n",
    "# two points to plot the decision \n",
    "# boundary line as it changes \n",
    "for t in xrange(stime) :\n",
    "    \n",
    "    # Show evert 10th timestep\n",
    "    if t%10 == 0:\n",
    "        \n",
    "        # Evaluate x2 based on current weights\n",
    "        x2 = -(dw[1,t]*x1 + dw[0,t])/dw[2,t]\n",
    "        \n",
    "        # Plot\n",
    "        plot(x1,x2, c='#cccccc', linewidth = 1, zorder = 1)\n",
    "\n",
    "# Evaluate x2 ibased on final weights\n",
    "x2 = -(w[1]*x1 + w[0])/w[2]\n",
    "\n",
    "# Plot\n",
    "plot(x1,x2, c= '#000000', linewidth = 1, zorder = 1)\n",
    "\n",
    "# Show points\n",
    "scatter(*P[:(np/2),:].T, s = 50,  c = '#8888ff', zorder = 2 )\n",
    "scatter(*P[(np/2):,:].T, s = 50,  c = '#ff8888', zorder = 2 )       \n",
    "\n",
    "xlim( [lower_bound[0], upper_bound[0]] )\n",
    "ylim( [lower_bound[1], upper_bound[1]] )\n",
    "\n",
    "# Second plot - error\n",
    "subplot(122)\n",
    "\n",
    "title('Error')\n",
    "\n",
    "# Plot the error\n",
    "plot(E,c=\"gray\")\n",
    "\n",
    "# Plot the moving average of the error\n",
    "plot(convolve(E, ones((100,))/100, mode='valid'),\n",
    "     linewidth =3, c=\"k\")\n",
    "\n",
    "show()"
   ]
  },
  {
   "cell_type": "markdown",
   "metadata": {},
   "source": [
    "#### Testing\n",
    "\n",
    "Now we create a new dataset to test the network: "
   ]
  },
  {
   "cell_type": "code",
   "execution_count": 9,
   "metadata": {
    "collapsed": false,
    "run_control": {
     "marked": false
    }
   },
   "outputs": [],
   "source": [
    "# Number of test patterns\n",
    "nt = 200\n",
    "\n",
    "# Test data - we change the standard deviation \n",
    "tests = build_dataset(nt, sd = 0.4 )\n",
    "\n",
    "# Each row of P is a test pattern\n",
    "T = tests[:,:2]\n",
    "\n",
    "# Each element of o is the desired output \n",
    "# relative to an input pattern\n",
    "ot = tests[:,2]\n",
    "\n",
    "y = zeros(nt)\n",
    "E = zeros(nt)\n",
    "\n",
    "# iterate tests\n",
    "for t in xrange(nt) :\n",
    "    \n",
    "    # bias-plus-input vector\n",
    "    tx = hstack([1, T[t]])\n",
    "    \n",
    "    # weighted sum - dot product\n",
    "    y[t] = dot(w, tx)\n",
    "    \n",
    "    # current error\n",
    "    E[t] = 0.5*(ot[t] - y[t])**2\n",
    "    \n"
   ]
  },
  {
   "cell_type": "markdown",
   "metadata": {},
   "source": [
    "#### Plotting test results\n",
    "We plot all test patterns using the output of the network to color them. Intens red and blue dots are identified as belonging to a class with a little error, while it is much harder to identify white dots."
   ]
  },
  {
   "cell_type": "code",
   "execution_count": 10,
   "metadata": {
    "collapsed": false,
    "run_control": {
     "marked": false
    },
    "scrolled": true
   },
   "outputs": [
    {
     "data": {
      "image/png": "[encoded data removed]",
      "text/plain": [
       "<matplotlib.figure.Figure at 0x7f6a50139a90>"
      ]
     },
     "metadata": {},
     "output_type": "display_data"
    }
   ],
   "source": [
    "# Evaluate bounds\n",
    "upper_bound = T.max(0) + 0.2*(T.max(0)-T.min(0))\n",
    "lower_bound = T.min(0) - 0.2*(T.max(0)-T.min(0))\n",
    "\n",
    "# Create the figure\n",
    "fig = figure(figsize=(5,4))\n",
    "\n",
    "\n",
    "title('Tests - average error = {}'.format(mean(E).round(4)))\n",
    "\n",
    "# Chose the x-axis coords of the\n",
    "# two points to plot the decision \n",
    "# boundary line\n",
    "x1 = array([lower_bound[0],upper_bound[0]])\n",
    "\n",
    "# Calculate the y-axis coords of the\n",
    "# two points to plot the decision \n",
    "# boundary line\n",
    "\n",
    "# Evaluate x2 based on final weights\n",
    "x2 = -(w[1]*x1 + w[0])/w[2]\n",
    "\n",
    "# Plot\n",
    "plot(x1,x2, c= '#000000', linewidth = 1, zorder = 1)\n",
    "\n",
    "# Show points\n",
    "ax = scatter(*T.T, s = 50,  c = y, zorder = 2, cmap = cm.coolwarm )\n",
    "colorbar(ax)\n",
    "\n",
    "#limits\n",
    "xlim( [lower_bound[0], upper_bound[0]] )\n",
    "ylim( [lower_bound[1], upper_bound[1]] )\n",
    "\n",
    "show()"
   ]
  },
  {
   "cell_type": "markdown",
   "metadata": {},
   "source": [
    "### Recognising the MNIST digits\n",
    "\n",
    "Let us implement a perceptron that categorize the MNIST images as numbers.\n",
    "\n",
    "#### Initialize the dataset\n",
    "First we initialize the dataset:"
   ]
  },
  {
   "cell_type": "code",
   "execution_count": 11,
   "metadata": {
    "collapsed": false,
    "run_control": {
     "marked": false
    }
   },
   "outputs": [],
   "source": [
    "# Download the dataset \n",
    "\n",
    "# Get the script from internet\n",
    "! wget https://raw.githubusercontent.com/sorki/python-mnist/master/get_data.sh > /dev/null 2>&1  \n",
    "\n",
    "# Run it to dovnload all files in a local dir named 'data'\n",
    "! bash get_data.sh >/dev/null 2>&1\n",
    "\n",
    "# We do not need the script anymore, remove it\n",
    "! rm get_data.sh* > /dev/null 2>&1\n",
    "\n",
    "\n",
    "\n",
    "# Initialize the dataset variables\n",
    "%run utils"
   ]
  },
  {
   "cell_type": "markdown",
   "metadata": {},
   "source": [
    "We now fill a array with all parameters. We will take the first 50 digits in the training set."
   ]
  },
  {
   "cell_type": "code",
   "execution_count": 12,
   "metadata": {
    "collapsed": false,
    "run_control": {
     "marked": false
    }
   },
   "outputs": [],
   "source": [
    "# Set the number of patterns \n",
    "n_patterns = 50\n",
    "\n",
    "# Take 'n_patterns' rows\n",
    "patterns = array(mndata.train_images)[:n_patterns]\n",
    "\n",
    "# Rescale all patterns between 0 and 1\n",
    "patterns = sign(patterns/255.0)\n",
    "\n",
    "# Get the labels of the patterns\n",
    "labels = array(mndata.train_labels)[:n_patterns]"
   ]
  },
  {
   "cell_type": "markdown",
   "metadata": {},
   "source": [
    "Let us visualize the first 20 patterns:"
   ]
  },
  {
   "cell_type": "code",
   "execution_count": 13,
   "metadata": {
    "collapsed": false,
    "run_control": {
     "marked": false
    },
    "scrolled": true
   },
   "outputs": [
    {
     "data": {
      "image/png": "[encoded data removed]",
      "text/plain": [
       "<matplotlib.figure.Figure at 0x7f6a50316c90>"
      ]
     },
     "metadata": {},
     "output_type": "display_data"
    },
    {
     "data": {
      "image/png": "[encoded data removed]",
      "text/plain": [
       "<matplotlib.figure.Figure at 0x7f6a4db30790>"
      ]
     },
     "metadata": {},
     "output_type": "display_data"
    }
   ],
   "source": [
    "for i in xrange(20):\n",
    "    # Create a new figure after each 10-th item\n",
    "    if i%10 == 0:\n",
    "        fig = figure(figsize = (20, 1))\n",
    "    \n",
    "    # Plot current item (we use the \n",
    "    # function plot_img in our utils.py)\n",
    "    plot_img( to_mat(patterns[i]), \n",
    "        fig, (i%10)+1, windows = 20 )\n",
    "    \n",
    "    # show figure after all 1o items\n",
    "    # are plotted\n",
    "    if i%10 == 9:\n",
    "        show()"
   ]
  },
  {
   "cell_type": "markdown",
   "metadata": {},
   "source": [
    "#### Iterating the timesteps\n",
    "\n",
    "Now we implement the core part, defining what happens in each timestep."
   ]
  },
  {
   "cell_type": "code",
   "execution_count": 14,
   "metadata": {
    "collapsed": false,
    "run_control": {
     "marked": false
    }
   },
   "outputs": [],
   "source": [
    "# Constants\n",
    "\n",
    "# Number of trials for learning\n",
    "trials = 10*n_patterns\n",
    "\n",
    "# Create a list of pattern indices.\n",
    "# We will reshuffle it at each \n",
    "# repetition of the series\n",
    "pattern_indices = arange(n_patterns)\n",
    "\n",
    "# Learning rate\n",
    "eta = 0.01\n",
    "\n",
    "# Number of output unit \n",
    "# (remember that the input is given\n",
    "# by a 28*28 vector)\n",
    "m = 10\n",
    "\n",
    "# Variables \n",
    "\n",
    "# Init weights\n",
    "w = zeros([m, n+1])\n",
    "\n",
    "# Init input units\n",
    "x = zeros(n)\n",
    "\n",
    "# Init output units\n",
    "y = zeros(m)\n",
    "\n",
    "# Init desired output vector\n",
    "y_target = zeros(m)\n",
    "\n",
    "\n",
    "# We will store the input, output and error history\n",
    "input_store = zeros([n,trials])\n",
    "output_store = zeros([m,trials])\n",
    "E = zeros(trials)\n",
    "\n",
    "\n",
    "# Iterate trials\n",
    "for t in xrange(trials) :\n",
    "    \n",
    "    # Reiterate the input pattern \n",
    "    # sequence through timesteps\n",
    "    \n",
    "    # Reshuffle at the end \n",
    "    # of the series\n",
    "    if t%n_patterns == 0:\n",
    "        shuffle(pattern_indices)\n",
    "    \n",
    "    # Current pattern \n",
    "    k = pattern_indices[t%n_patterns]\n",
    "    \n",
    "    # Aggregate inputs and the bias unit\n",
    "    x = hstack([ 1, patterns[k] ])\n",
    "    \n",
    "    # Only the unit representing the desired \n",
    "    # category is set to 1\n",
    "    y_target *= 0\n",
    "    y_target[labels[k]] = 1\n",
    "    \n",
    "    # !!!! The dot product becomes a matrix \n",
    "    # product with more than one output unit !!!!\n",
    "    y = dot(w,x) \n",
    "    \n",
    "    # Learning - outer product\n",
    "    w += eta*outer(y_target - y, x);\n",
    "    \n",
    "    # Store data\n",
    "    input_store[:,t] = x[1:]\n",
    "    output_store[:,t] = y\n",
    "    E[t] = 0.5*sum((y_target - y)**2)\n",
    "    "
   ]
  },
  {
   "cell_type": "markdown",
   "metadata": {},
   "source": [
    "#### Plotting the training\n",
    "We create an animation showing the network learning to categorize the digits as numbers:"
   ]
  },
  {
   "cell_type": "code",
   "execution_count": 15,
   "metadata": {
    "collapsed": false
   },
   "outputs": [],
   "source": [
    "# In this case we saved plotting code into\n",
    "# a distinct package to maintain readability of \n",
    "# this notebook. Look at perceptron_training_animation.py\n",
    "# Look at https://goo.gl/1DaODr or details\n",
    "import perceptron_training_animation as pta\n",
    "animate = pta.AnimatePerceptron(input_store, output_store, E)\n",
    "animate.training_animation()"
   ]
  },
  {
   "cell_type": "markdown",
   "metadata": {},
   "source": [
    "<img style=\"width:8in\" src=\"mnist-perceptron-training.gif\"></img>"
   ]
  },
  {
   "cell_type": "markdown",
   "metadata": {},
   "source": [
    "#### Testing using the MNIST test dataset\n",
    "Finally we test the network on new items taken from the test dataset:"
   ]
  },
  {
   "cell_type": "code",
   "execution_count": 16,
   "metadata": {
    "collapsed": false
   },
   "outputs": [
    {
     "data": {
      "image/png": "[encoded data removed]",
      "text/plain": [
       "<matplotlib.figure.Figure at 0x7f6a503326d0>"
      ]
     },
     "metadata": {},
     "output_type": "display_data"
    },
    {
     "data": {
      "image/png": "[encoded data removed]",
      "text/plain": [
       "<matplotlib.figure.Figure at 0x7f6a500e2150>"
      ]
     },
     "metadata": {},
     "output_type": "display_data"
    },
    {
     "data": {
      "image/png": "[encoded data removed]",
      "text/plain": [
       "<matplotlib.figure.Figure at 0x7f6a4d611950>"
      ]
     },
     "metadata": {},
     "output_type": "display_data"
    },
    {
     "data": {
      "image/png": "[encoded data removed]",
      "text/plain": [
       "<matplotlib.figure.Figure at 0x7f6a4d1069d0>"
      ]
     },
     "metadata": {},
     "output_type": "display_data"
    },
    {
     "data": {
      "image/png": "[encoded data removed]",
      "text/plain": [
       "<matplotlib.figure.Figure at 0x7f6a4cfc6ed0>"
      ]
     },
     "metadata": {},
     "output_type": "display_data"
    },
    {
     "data": {
      "image/png": "[encoded data removed]",
      "text/plain": [
       "<matplotlib.figure.Figure at 0x7f6a4db9fe50>"
      ]
     },
     "metadata": {},
     "output_type": "display_data"
    }
   ],
   "source": [
    "# Set the number of patterns \n",
    "n_patterns = 6\n",
    "\n",
    "# Take 'n_patterns' rows\n",
    "patterns = array(mndata.test_images)[:n_patterns]\n",
    "\n",
    "# Rscale all patterns between 0 and 1\n",
    "patterns = sign(patterns/255.0)\n",
    "\n",
    "# Get the labels of the patterns\n",
    "labels = array(mndata.train_labels)[:n_patterns]\n",
    "\n",
    "\n",
    "\n",
    "for p in xrange(n_patterns) :\n",
    "\n",
    "    # Aggregate inputs and the bias unit\n",
    "    x = hstack([ 1, patterns[p] ])\n",
    "       \n",
    "    # !!!!the dot product becomes a matrix \n",
    "    # product with more than one output unit!!!!\n",
    "    y = dot(w,x) \n",
    " \n",
    "    # init the stores to be used wit init_fig()\n",
    "    input_store = zeros([n,1])\n",
    "    output_store = zeros([m,1])   \n",
    "    \n",
    "    # fill-up stores\n",
    "    input_store[:,0] = x[1:]\n",
    "    output_store[:,0] = y\n",
    "    \n",
    "    # call init_fig from AnimatePerceptron\n",
    "    # to plot the current test. see https://goo.gl/1DaODr\n",
    "    animate = pta.AnimatePerceptron(input_store, output_store, E)\n",
    "    animate.init_fig(timestep = 0, plot_error = False)\n",
    "    "
   ]
  },
  {
   "cell_type": "markdown",
   "metadata": {},
   "source": [
    "<br><br><br><br><br><br><br><br><br><br><br><br><br><br>\n",
    "<br><br><br><br><br><br><br><br><br><br><br><br><br><br>\n",
    "<br><br><br><br><br><br><br><br><br><br><br><br><br><br>\n",
    "The next cell is just for styling"
   ]
  },
  {
   "cell_type": "code",
   "execution_count": 17,
   "metadata": {
    "collapsed": false,
    "run_control": {
     "marked": true
    }
   },
   "outputs": [
    {
     "data": {
      "text/html": [
       "<style>\n",
       "\n",
       "/* PRINT */\n",
       "\n",
       "#toc ol {\n",
       "    font-size: 20px; \n",
       "    line-height: 120%; \n",
       "    padding: 0; \n",
       "    margin-left: 20px; \n",
       "    list-style-type: decimal;\n",
       "}\n",
       "\n",
       "/* PRINT */\n",
       "div.text_cell_render table, \n",
       "div.text_cell_render  th,\n",
       "div.text_cell_render  tr,\n",
       "div.text_cell_render td {\n",
       "    border: 0px solid black;\n",
       "}\n",
       "div.MathJax_Display {padding: 40px 5px 40px 5px}\n",
       "\n",
       "div.input_area  { padding: 10px;  }\n",
       "\n",
       "div.input_area  { \n",
       "    min-width: 20em !important; \n",
       "    overflow-x: hide\n",
       "} \n",
       "div.input_area pre {  \n",
       "    min-width: 20em !important; \n",
       "}\n",
       "\n",
       "\n",
       "div.input_area  { padding: 10px;  }\n",
       ".rendered_html p{ text-align: left }\n",
       "div.input_area>div.highlight  { padding:10px; }\n",
       "\n",
       "/* FONT_CODE */\n",
       ".input_area pre { font-size:10px; line-height:120% }\n",
       "\n",
       "/* FONT_TEXT */\n",
       "div.text_cell_render { font-size:20px;  line-height:120% }\n",
       "\n",
       "/* FONT_QUOTE */\n",
       ".text_cell_render pre { font-size:14px; line-height:120% }\n",
       "\n",
       "/* BACKGROUND */\n",
       "div .input_area { background-color:#333333;}\n",
       "blockquote { background-color:#ffff66; }\n",
       "\n",
       "/* BUILTIN */\n",
       ".input_area .highlight .bp { color: #CD5C5C } /* Name.Builtin.Pseudo */\n",
       "\n",
       "/* KEYWORD */\n",
       ".input_area .highlight .k { color: #F0E68C; font-weight: bold } /* Keyword */\n",
       ".input_area .highlight .kc { color: #F0E68C; font-weight: bold } /* Keyword.Constant */\n",
       ".input_area .highlight .kd { color: #F0E68C; font-weight: bold } /* Keyword.Declaration */\n",
       ".input_area .highlight .kn { color: #F0E68C; font-weight: bold } /* Keyword.Namespace */\n",
       ".input_area .highlight .kp { color: #F0E68C; font-weight: bold } /* Keyword.Pseudo */\n",
       ".input_area .highlight .kr { color: #F0E68C; font-weight: bold } /* Keyword.Reserved */\n",
       ".input_area .highlight .kt { color: #F0E68C; font-weight: bold } /* Keyword.Type */\n",
       ".input_area .highlight .ow { color: #F0E68C; font-weight: bold } /* Operator.Word */\n",
       "\n",
       "/* VARIABLE */\n",
       ".input_area .highlight pre { color: #FFFFFF }\n",
       ".input_area .highlight .n { color: #FFFFFF } /* Name.Variable */\n",
       ".input_area .highlight .nv { color: #FFFFFF } /* Name.Variable */\n",
       ".input_area .highlight .na { color: #FFFFFF } /* Name.Attribute */\n",
       ".input_area .highlight .no { color: #FFFFFF } /* Name.Constant */\n",
       ".input_area .highlight .nl { color: #FFFFFF } /* Name.Label */\n",
       "\n",
       "/* FUNCTION */\n",
       ".input_area .highlight .nb { color: #BDB76B } /* Name.Builtin */\n",
       ".input_area .highlight .nf { color: #BDB76B } /* Name.Function */\n",
       ".input_area .highlight .vc { color: #BDB76B } /* Name.Variable.Class */\n",
       ".input_area .highlight .vg { color: #BDB76B } /* Name.Variable.Global */\n",
       ".input_area .highlight .vi { color: #BDB76B } /* Name.Variable.Instance */\n",
       ".input_area .highlight .nc { color: #BDB76B } /* Name.Class */\n",
       ".input_area .highlight .ni { color: #BDB76B } /* Name.Entity */\n",
       ".input_area .highlight .ne { color: #BDB76B } /* Name.Exception */\n",
       ".input_area .highlight .nn { color: #BDB76B } /* Name.Namespace */\n",
       ".input_area .highlight .nt { color: #BDB76B } /* Name.Tag */\n",
       "\n",
       "\n",
       "\n",
       "/* OPERATOR */\n",
       ".input_area .highlight .o { color: #FFFFFF; font-weight:bold } /* Operator */\n",
       ".input_area .highlight .p { color: #FFFFFF; font-weight:bold } /* Operator */\n",
       "\n",
       "\n",
       "/* DECORATOR */\n",
       ".input_area .highlight .nd { color: #BDB76B } /* Name.Decorator */\n",
       "\n",
       "\n",
       "/* COMMENT */\n",
       ".input_area .highlight .c { color: #87CEEB; font-style: italic } /* Comment */\n",
       ".input_area .highlight .cm { color: #87CEEB; font-style: italic } /* Comment.Multiline */\n",
       ".input_area .highlight .cp { color: #87CEEB; } /* Comment.Preproc */\n",
       ".input_area .highlight .c1 { color: #87CEEB; font-style: italic } /* Comment.Single */\n",
       ".input_area .highlight .cs { color: #87CEEB; font-style: italic } /* Comment.Special */\n",
       "\n",
       "\n",
       "/* NUMBER */\n",
       ".input_area .highlight .mb { color: #98FB98 } /* Literal.Number.Bin */\n",
       ".input_area .highlight .mf { color: #98FB98 } /* Literal.Number.Float */\n",
       ".input_area .highlight .mh { color: #98FB98 } /* Literal.Number.Hex */\n",
       ".input_area .highlight .mi { color: #98FB98 } /* Literal.Number.Integer */\n",
       ".input_area .highlight .mo { color: #98FB98 } /* Literal.Number.Oct */\n",
       ".input_area .highlight .m { color: #98FB98 } /* Literal.Number */\n",
       ".input_area .highlight .il { color: #98FB98 } /* Literal.Number.Integer.Long */\n",
       "\n",
       "/* STRING */\n",
       ".input_area .highlight .s { color: #FFA0A0 } /* Literal.String */\n",
       ".input_area .highlight .w { color: #FFA0A0 } /* Text.Whitespace */\n",
       ".input_area .highlight .sb { color: #FFA0A0 } /* Literal.String.Backtick */\n",
       ".input_area .highlight .sc { color: #FFA0A0 } /* Literal.String.Char */\n",
       ".input_area .highlight .sd { color: #FFA0A0; font-style: italic } /* Literal.String.Doc */\n",
       ".input_area .highlight .s2 { color: #FFA0A0 } /* Literal.String.Double */\n",
       ".input_area .highlight .se { color: #FFA0A0; font-weight: bold } /* Literal.String.Escape */\n",
       ".input_area .highlight .sh { color: #FFA0A0 } /* Literal.String.Heredoc */\n",
       ".input_area .highlight .si { color: #FFA0A0; font-weight: bold } /* Literal.String.Interpol */\n",
       ".input_area .highlight .sx { color: #FFA0A0 } /* Literal.String.Other */\n",
       ".input_area .highlight .sr { color: #FFA0A0 } /* Literal.String.Regex */\n",
       ".input_area .highlight .s1 { color: #FFA0A0 } /* Literal.String.Single */\n",
       ".input_area .highlight .ss { color: #FFA0A0 } /* Literal.String.Symbol */\n",
       "\n",
       "\n",
       "\n",
       "/********************************************************************************/\n",
       "/********************************************************************************/\n",
       "\n",
       "/* JUPYTER */\n",
       "\n",
       "/* FONT_EDIT */\n",
       ".cm-s-default span { font-size:16px; line-height:120% }\n",
       "\n",
       "/* BACKGROUND_EDIT */\n",
       "div .cm-s-default { background-color: #888888;}\n",
       "\n",
       "/* CURSOR */\n",
       ".input_area .CodeMirror div.CodeMirror-cursor { border-left: 5px solid #FFFFFF; }\n",
       ".input_area .CodeMirror div.CodeMirror-secondarycursor { border-left: 5px solid #FFFFFF;}\n",
       ".input_area .CodeMirror.cm-fat-cursor div.CodeMirror-cursor { background: #FFFFFF;}\n",
       ".input_area .cm-animate-fat-cursor { background-color: #FFFFFF; }\n",
       "\n",
       "/* BUILTIN */\n",
       ".input_area .cm-s-ipython span.cm-builtin { color: #CD5C5C } \n",
       ".input_area .cm-s-ipython span.cm-variable-2 { color: #CD5C5C } \n",
       ".input_area .cm-s-ipython span.cm-variable-3 { color: #CD5C5C } \n",
       "\n",
       "/* KEYWORD */\n",
       ".input_area .cm-s-ipython span.cm-keyword { color: #F0E68C; font-weight:700 } \n",
       "\n",
       "/* VARIABLE */\n",
       ".input_area span.cm-variable { color: #FFFFFF } \n",
       ".input_area span.cm-def { color: #FFFFFF } \n",
       "\n",
       "\n",
       "/* OPERATOR */\n",
       ".input_area .cm-s-ipython span.cm-operator { color: #FFFFFF; font-weight:700 } \n",
       ".input_area .cm-s-ipython span { color: #FFFFFF; font-weight:700 } \n",
       "\n",
       "/* DECORATOR */\n",
       ".input_area .cm-s-ipython span.cm-meta { color: #BDB76B } \n",
       "\n",
       "/* COMMENT */\n",
       ".input_area .cm-s-ipython span.cm-comment { color:#87CEEB; font-style:italic } \n",
       "\n",
       "/* NUMBER */\n",
       ".input_area .cm-s-ipython span.cm-number { color: #98FB98 } \n",
       "\n",
       "/* STRING */\n",
       ".input_area .cm-s-ipython span.cm-string { color: #FFA0A0 } \n",
       ".input_area .cm-s-ipython span.cm-string-2 { color: #FFA0A0 } \n",
       "\n",
       "</style><script> \n",
       "// Converts integer to roman numeral\n",
       "function romanize(num) {\n",
       "    var lookup = {M:1000,CM:900,D:500,CD:400,C:100,XC:90,L:50,XL:40,X:10,IX:9,V:5,IV:4,I:1},\n",
       "    roman = '',\n",
       "    i;\n",
       "    for ( i in lookup ) {\n",
       "        while ( num >= lookup[i] ) {\n",
       "            roman += i;\n",
       "            num -= lookup[i];\n",
       "        }\n",
       "    }\n",
       "    return roman;\n",
       "}\n",
       "\n",
       "// Builds a <ul> Table of Contents from all <headers> in DOM\n",
       "function createTOC(){\n",
       "    var toc = \"\";\n",
       "    var level = 0;\n",
       "    var levels = {}\n",
       "    $('#toc').html('');\n",
       "\n",
       "    $(\":header\").each(function(i){\n",
       "        if (this.id=='tocheading'){return;}\n",
       "\n",
       "        titleText = this.innerHTML;\n",
       "        openLevel = this.tagName[1];\n",
       "        if(openLevel>1) {\n",
       "            openLevel-=1\n",
       "\n",
       "        if (levels[openLevel]){\n",
       "            levels[openLevel] += 1;\n",
       "        } else{\n",
       "            levels[openLevel] = 1;\n",
       "        }\n",
       "\n",
       "        if (openLevel > level) {\n",
       "            toc += (new Array(openLevel - level + 1)).join('<ol type=\"1\" class=\"toc\">');\n",
       "        } else if (openLevel < level) {\n",
       "            toc += (new Array(level - openLevel + 1)).join(\"</ol>\");\n",
       "            for (i=level;i>openLevel;i--){levels[i]=0;}\n",
       "        }\n",
       "\n",
       "        level = parseInt(openLevel);\n",
       "\n",
       "\n",
       "        if (this.id==''){this.id = this.innerHTML.replace(/ /g,\"-\")}\n",
       "        var anchor = this.id;\n",
       "\n",
       "        toc += '<li><a href=\"#' + anchor + '\">' + titleText\n",
       "        + '</a></li>';\n",
       "    }\n",
       "\n",
       "    });\n",
       "\n",
       "\n",
       "    if (level) {\n",
       "        toc += (new Array(level + 1)).join(\"</ol>\");\n",
       "    }\n",
       "\n",
       "\n",
       "    $('#toc').append(toc);\n",
       "\n",
       "};\n",
       "\n",
       "// Executes the createToc function\n",
       "setTimeout(function(){createTOC();},100);\n",
       "\n",
       "// Rebuild to TOC every minute\n",
       "setInterval(function(){createTOC();},60000);\n",
       "</script>\n",
       "\n"
      ],
      "text/plain": [
       "<IPython.core.display.HTML object>"
      ]
     },
     "execution_count": 17,
     "metadata": {},
     "output_type": "execute_result"
    }
   ],
   "source": [
    "from IPython.core.display import HTML\n",
    "def css_styling():\n",
    "    styles = open(\"../style/ipybn.css\", \"r\").read()\n",
    "    return HTML(styles)\n",
    "css_styling()"
   ]
  }
 ],
 "metadata": {
  "css": [
   ""
  ],
  "kernelspec": {
   "display_name": "Python 2",
   "language": "python",
   "name": "python2"
  },
  "language_info": {
   "codemirror_mode": {
    "name": "ipython",
    "version": 2
   },
   "file_extension": ".py",
   "mimetype": "text/x-python",
   "name": "python",
   "nbconvert_exporter": "python",
   "pygments_lexer": "ipython2",
   "version": "2.7.9"
  },
  "latex_envs": {
   "bibliofile": "biblio.bib",
   "cite_by": "apalike",
   "current_citInitial": 1,
   "eqLabelWithNumbers": true,
   "eqNumInitial": 0
  }
 },
 "nbformat": 4,
 "nbformat_minor": 0
}
